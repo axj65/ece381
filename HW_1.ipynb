{
 "cells": [
  {
   "cell_type": "markdown",
   "metadata": {
    "id": "voAS4e-XbWaH"
   },
   "source": [
    "# Assignment - 1\n",
    "\n",
    "### Due: 11:59 PM CT, September 7\n",
    "\n",
    "---\n",
    "\n"
   ]
  },
  {
   "cell_type": "markdown",
   "metadata": {
    "id": "-1QeRVC6S-X2"
   },
   "source": [
    "\n",
    "Assignment 1\n",
    "\n",
    "Total points: 75\n",
    "\n",
    "Due: Thursday, September 7 submitted via Canvas by 11:59 pm\n",
    "\n",
    "Your homework should be written in a Python notebook. You may work in groups of two if you wish. Only one student per team needs to submit the assignment on Canvas. But be sure to include name and UT EID for both students.\n",
    "\n",
    "Also, please make sure your code runs and the graphics (and anything else) are displayed in your notebook before submitting. (%matplotlib inline)"
   ]
  },
  {
   "cell_type": "markdown",
   "metadata": {
    "id": "7S3_aB9bIzRp"
   },
   "source": [
    "# Question 0:\n",
    "\n",
    "Fill out the survey posted in Canvas under Modules --> Quizzes by the same deadline as this assignment to receive a participation credit worth 5 assignment points.\n",
    "\n"
   ]
  },
  {
   "cell_type": "markdown",
   "metadata": {
    "id": "Rh_WVVdznfMN"
   },
   "source": [
    "# Question 1: Judgement Under Uncertainty (5 pts)\n",
    "\n",
    "Read the article by Tversky and Kahneman (file name 'Tversky_Kahneman_1974' on Canvas under Modules) on Judgment under Uncertainty. Describe in your own words why judgments based on similarity or \"representativeness\" are prone to errors."
   ]
  },
  {
   "cell_type": "markdown",
   "metadata": {
    "id": "IkVxrWs0o0tn"
   },
   "source": [
    "\n",
    "# Question 2: Google Flu Trends (10 pts)\n",
    "\n",
    "The second article posted  in Canvas under Modules --> Resources, (google flu) describes a high-profile (and embarrassingly  failed)  project done by google, highlighting the phenomena of data drift and the importance of continually monitoring/updating models post deployment.\n",
    "\n",
    "Read this article and then briefly describe\n",
    "\n",
    "(i) three important causes of \"data drift\" in the flu prediction problem that are mentioned in the article, and\n",
    "\n",
    "(ii) one important aspect of the original google model design that made it very prone to overfitting (and hence poor generalization on future data).\n"
   ]
  },
  {
   "cell_type": "markdown",
   "metadata": {
    "id": "hpTvwLiHVmfo"
   },
   "source": [
    "# Question 3: Maximum Likelihood Estimate (10 pts)\n",
    "\n",
    "Assume there is a 4-sided dice, each roll of the dice can result into a possible outcome in {1, 2, 3, 4}. Suppose a random sample of 30 students of your class independently rolled the dice and their outcomes were recorded as below:\n",
    "$$\n",
    "[4,2,1,4,2,2,4,1,1,2,1,2,3,3,1,1,4,1,1,4,3,4,1,3,3,1,1,3,1,2]\n",
    "$$\n",
    "If $p_i$ refers to the probability of the dice landing on the number $i$, i.e., probability that dice lands on 1 is $p_1$, lands on 2 is $p_2$ and so on.\n",
    "\n",
    "1. Based on these definitions, write the log-likelihood of observing the above given sequence of outcomes. (5 points) (Hint : Think multinomial distribution.)\n",
    "2. Now to infer the probabilities {$p_1, p_2, p_3, p_4$} from the observed data, we need to maximize the log-likelihood for each $p_i$ individually. What (if any) is the problem with maximizing the above found log-likelihood wrt $p_i$ directly? And how can we overcome this problem? (5 points) (Hint : Think about the solutions, i.e., the values of $p_i$'s that we obtain in order to maximize the log-likelihood, and if they are correct.)"
   ]
  },
  {
   "cell_type": "markdown",
   "metadata": {
    "id": "nTWFVcvwXP4w"
   },
   "source": [
    "# Question 4: Linear Regression (10 pts)\n",
    "\n",
    "1. What is the difference between R-square and adjusted R square and why is it desirable to use the adjusted value? (4 pts)\n",
    "\n",
    "2. Overfitting usually happens in complex models. Linear Regression is a fairly simple model. Could overfitting happen in Linear Regression? If so, please explain the scenario in which it could happen and how we can tackle it. (6 pts)\n"
   ]
  },
  {
   "cell_type": "markdown",
   "metadata": {
    "id": "IvIs1fklzWoY"
   },
   "source": [
    "# Question 5: Ridge/ Lasso Regression (35 pts)\n",
    "\n",
    "This is a programming question. Please read through each subpart of this question carefully. You are required to add lines of code as specified in the code cells. Please carefully read through the comments in the code cells to identify what code is to be written, where it is to be written and how many lines of code are required. Code is to be added between the **## START CODE** ## and **## END CODE ##** comments and in place of the keyword **None**. In certain cases, the number of lines of code that are to be written will be specified. For example, **## START CODE ## (1 line of code)** specifies that only 1 line of code is to be added between the ## START CODE ## and ## END CODE ## comments. In case there is no information on the required number of lines, you are allowed to add any number of lines of code.\n",
    "\n",
    "The following question covers the California housing prices dataset and linear models in python. The dataset is taken from https://www.kaggle.com/camnugent/california-housing-prices/version/1. The categorical variables and rows with missing variables are removed to make it easier to run the models."
   ]
  },
  {
   "cell_type": "markdown",
   "metadata": {
    "id": "NQphDrEczWoY"
   },
   "source": [
    "The data pertains to the houses found in a given California district and some summary stats about them based on the 1990 census data. The columns are as follows:\n",
    "\n",
    "* longitude\n",
    "* latitude\n",
    "* housingmedianage\n",
    "* total_rooms\n",
    "* total_bedrooms\n",
    "* population\n",
    "* households\n",
    "* median_income\n",
    "* medianhousevalue\n",
    "* ocean_proximity (this feature has been removed from the csv file since it is an ordinal variable)"
   ]
  },
  {
   "cell_type": "markdown",
   "metadata": {
    "id": "16G3O_XNzWoZ"
   },
   "source": [
    "NOTE\n",
    "* Only use the following code block if you are using Google Colab. If you are using Jupyter Notebook, please ignore this code block. You can directly upload the file to your Jupyter Notebook file systems.\n",
    "* It will prompt you to select a local file. Click on “Choose Files” then select and upload the file. Wait for the file to be 100% uploaded. You should see the name of the file once Colab has uploaded it."
   ]
  },
  {
   "cell_type": "code",
   "execution_count": null,
   "metadata": {
    "colab": {
     "base_uri": "https://localhost:8080/",
     "height": 73
    },
    "id": "S2rMKQQgzWoZ",
    "outputId": "412f825a-4db6-4372-8e78-be0de61bd3a2"
   },
   "outputs": [],
   "source": [
    "from google.colab import files\n",
    "uploaded = files.upload()"
   ]
  },
  {
   "cell_type": "markdown",
   "metadata": {
    "id": "IuWW6gn_zWoZ"
   },
   "source": [
    "Imports required"
   ]
  },
  {
   "cell_type": "code",
   "execution_count": 1,
   "metadata": {
    "id": "B21q-bx4zWoZ"
   },
   "outputs": [],
   "source": [
    "from sklearn import linear_model\n",
    "from sklearn.metrics import mean_squared_error\n",
    "from sklearn.model_selection import train_test_split, KFold\n",
    "from sklearn.preprocessing import StandardScaler\n",
    "from sklearn import preprocessing\n",
    "from sklearn.metrics import r2_score\n",
    "import numpy as np\n",
    "import pandas as pd\n",
    "import sklearn\n",
    "import matplotlib.pyplot as plt\n",
    "\n",
    "%matplotlib inline\n",
    "pd.options.mode.chained_assignment = None\n",
    "\n",
    "df = pd.read_csv(\"housing_data.csv\")\n",
    "X = df.drop(['median_house_value'],axis=1)\n",
    "Y = df['median_house_value']"
   ]
  },
  {
   "cell_type": "code",
   "execution_count": 2,
   "metadata": {
    "colab": {
     "base_uri": "https://localhost:8080/"
    },
    "id": "dj9kqISxzWoa",
    "outputId": "c468e372-a820-45db-c5a9-c1eed7086c39"
   },
   "outputs": [
    {
     "data": {
      "text/plain": [
       "Index(['longitude', 'latitude', 'housing_median_age', 'total_rooms',\n",
       "       'total_bedrooms', 'population', 'households', 'median_income',\n",
       "       'median_house_value'],\n",
       "      dtype='object')"
      ]
     },
     "execution_count": 2,
     "metadata": {},
     "output_type": "execute_result"
    }
   ],
   "source": [
    "# Show you all the columns in this file\n",
    "df.columns"
   ]
  },
  {
   "cell_type": "code",
   "execution_count": 3,
   "metadata": {
    "colab": {
     "base_uri": "https://localhost:8080/",
     "height": 206
    },
    "id": "plE_OXorzWoa",
    "outputId": "ce5a4335-6fe8-45a9-e8cb-3d43faaf4b5e"
   },
   "outputs": [
    {
     "data": {
      "text/html": [
       "<div>\n",
       "<style scoped>\n",
       "    .dataframe tbody tr th:only-of-type {\n",
       "        vertical-align: middle;\n",
       "    }\n",
       "\n",
       "    .dataframe tbody tr th {\n",
       "        vertical-align: top;\n",
       "    }\n",
       "\n",
       "    .dataframe thead th {\n",
       "        text-align: right;\n",
       "    }\n",
       "</style>\n",
       "<table border=\"1\" class=\"dataframe\">\n",
       "  <thead>\n",
       "    <tr style=\"text-align: right;\">\n",
       "      <th></th>\n",
       "      <th>longitude</th>\n",
       "      <th>latitude</th>\n",
       "      <th>housing_median_age</th>\n",
       "      <th>total_rooms</th>\n",
       "      <th>total_bedrooms</th>\n",
       "      <th>population</th>\n",
       "      <th>households</th>\n",
       "      <th>median_income</th>\n",
       "      <th>median_house_value</th>\n",
       "    </tr>\n",
       "  </thead>\n",
       "  <tbody>\n",
       "    <tr>\n",
       "      <th>0</th>\n",
       "      <td>-122.23</td>\n",
       "      <td>37.88</td>\n",
       "      <td>41.0</td>\n",
       "      <td>880.0</td>\n",
       "      <td>129.0</td>\n",
       "      <td>322.0</td>\n",
       "      <td>126.0</td>\n",
       "      <td>8.3252</td>\n",
       "      <td>452600.0</td>\n",
       "    </tr>\n",
       "    <tr>\n",
       "      <th>1</th>\n",
       "      <td>-122.22</td>\n",
       "      <td>37.86</td>\n",
       "      <td>21.0</td>\n",
       "      <td>7099.0</td>\n",
       "      <td>1106.0</td>\n",
       "      <td>2401.0</td>\n",
       "      <td>1138.0</td>\n",
       "      <td>8.3014</td>\n",
       "      <td>358500.0</td>\n",
       "    </tr>\n",
       "    <tr>\n",
       "      <th>2</th>\n",
       "      <td>-122.24</td>\n",
       "      <td>37.85</td>\n",
       "      <td>52.0</td>\n",
       "      <td>1467.0</td>\n",
       "      <td>190.0</td>\n",
       "      <td>496.0</td>\n",
       "      <td>177.0</td>\n",
       "      <td>7.2574</td>\n",
       "      <td>352100.0</td>\n",
       "    </tr>\n",
       "    <tr>\n",
       "      <th>3</th>\n",
       "      <td>-122.25</td>\n",
       "      <td>37.85</td>\n",
       "      <td>52.0</td>\n",
       "      <td>1274.0</td>\n",
       "      <td>235.0</td>\n",
       "      <td>558.0</td>\n",
       "      <td>219.0</td>\n",
       "      <td>5.6431</td>\n",
       "      <td>341300.0</td>\n",
       "    </tr>\n",
       "    <tr>\n",
       "      <th>4</th>\n",
       "      <td>-122.25</td>\n",
       "      <td>37.85</td>\n",
       "      <td>52.0</td>\n",
       "      <td>1627.0</td>\n",
       "      <td>280.0</td>\n",
       "      <td>565.0</td>\n",
       "      <td>259.0</td>\n",
       "      <td>3.8462</td>\n",
       "      <td>342200.0</td>\n",
       "    </tr>\n",
       "  </tbody>\n",
       "</table>\n",
       "</div>"
      ],
      "text/plain": [
       "   longitude  latitude  housing_median_age  total_rooms  total_bedrooms  \\\n",
       "0    -122.23     37.88                41.0        880.0           129.0   \n",
       "1    -122.22     37.86                21.0       7099.0          1106.0   \n",
       "2    -122.24     37.85                52.0       1467.0           190.0   \n",
       "3    -122.25     37.85                52.0       1274.0           235.0   \n",
       "4    -122.25     37.85                52.0       1627.0           280.0   \n",
       "\n",
       "   population  households  median_income  median_house_value  \n",
       "0       322.0       126.0         8.3252            452600.0  \n",
       "1      2401.0      1138.0         8.3014            358500.0  \n",
       "2       496.0       177.0         7.2574            352100.0  \n",
       "3       558.0       219.0         5.6431            341300.0  \n",
       "4       565.0       259.0         3.8462            342200.0  "
      ]
     },
     "execution_count": 3,
     "metadata": {},
     "output_type": "execute_result"
    }
   ],
   "source": [
    "# Show you the first 5 rows in this file\n",
    "df.head()"
   ]
  },
  {
   "cell_type": "markdown",
   "metadata": {
    "id": "ZWVtzFlZzWoa"
   },
   "source": [
    "## Part-1: *(2 pts)*"
   ]
  },
  {
   "cell_type": "markdown",
   "metadata": {
    "id": "altrF0ONzWoa"
   },
   "source": [
    "Split the data into a training set (75% of data) and a test set (25% of data), using the train_test_split function with random_state = 50."
   ]
  },
  {
   "cell_type": "code",
   "execution_count": 4,
   "metadata": {
    "id": "sZ0QGMfLzWoa"
   },
   "outputs": [],
   "source": [
    "##  START CODE  ## (1 line of code)\n",
    "X_train, X_test, y_train, y_test = train_test_split(X, Y, test_size=0.25, random_state=50)\n",
    "##  END CODE    ##"
   ]
  },
  {
   "cell_type": "markdown",
   "metadata": {
    "id": "p12PihqIzWoa"
   },
   "source": [
    "Scale the data (not including target) so that each of the independent variables would have zero mean and unit variance. You can use the sklearn.preprocessing.scale function for this."
   ]
  },
  {
   "cell_type": "code",
   "execution_count": 5,
   "metadata": {
    "id": "LyLKGFRtzWoa"
   },
   "outputs": [],
   "source": [
    "##  START CODE  ## (2 lines of code)\n",
    "Xscaled_train = StandardScaler().fit_transform(X_train)\n",
    "Xscaled_test = StandardScaler().fit_transform(X_test)\n",
    "##  END CODE    ##\n",
    "\n",
    "y_train = y_train.to_numpy()\n",
    "y_test = y_test.to_numpy()"
   ]
  },
  {
   "cell_type": "markdown",
   "metadata": {
    "id": "WMIQVrijzWoa"
   },
   "source": [
    "Print the first 5 rows of the training set after scaling"
   ]
  },
  {
   "cell_type": "code",
   "execution_count": 6,
   "metadata": {
    "id": "uiN26WrEzWoa"
   },
   "outputs": [
    {
     "data": {
      "text/html": [
       "<div>\n",
       "<style scoped>\n",
       "    .dataframe tbody tr th:only-of-type {\n",
       "        vertical-align: middle;\n",
       "    }\n",
       "\n",
       "    .dataframe tbody tr th {\n",
       "        vertical-align: top;\n",
       "    }\n",
       "\n",
       "    .dataframe thead th {\n",
       "        text-align: right;\n",
       "    }\n",
       "</style>\n",
       "<table border=\"1\" class=\"dataframe\">\n",
       "  <thead>\n",
       "    <tr style=\"text-align: right;\">\n",
       "      <th></th>\n",
       "      <th>longitude</th>\n",
       "      <th>latitude</th>\n",
       "      <th>housing_median_age</th>\n",
       "      <th>total_rooms</th>\n",
       "      <th>total_bedrooms</th>\n",
       "      <th>population</th>\n",
       "      <th>households</th>\n",
       "      <th>median_income</th>\n",
       "    </tr>\n",
       "  </thead>\n",
       "  <tbody>\n",
       "    <tr>\n",
       "      <th>0</th>\n",
       "      <td>-1.131137</td>\n",
       "      <td>1.910919</td>\n",
       "      <td>1.852903</td>\n",
       "      <td>-0.978590</td>\n",
       "      <td>-1.042943</td>\n",
       "      <td>-0.994072</td>\n",
       "      <td>-1.051209</td>\n",
       "      <td>-1.222289</td>\n",
       "    </tr>\n",
       "    <tr>\n",
       "      <th>1</th>\n",
       "      <td>-1.126150</td>\n",
       "      <td>0.766393</td>\n",
       "      <td>-0.926203</td>\n",
       "      <td>0.199464</td>\n",
       "      <td>0.168770</td>\n",
       "      <td>0.548454</td>\n",
       "      <td>0.278543</td>\n",
       "      <td>0.717610</td>\n",
       "    </tr>\n",
       "    <tr>\n",
       "      <th>2</th>\n",
       "      <td>0.708890</td>\n",
       "      <td>-0.700469</td>\n",
       "      <td>1.852903</td>\n",
       "      <td>-1.024236</td>\n",
       "      <td>-1.002233</td>\n",
       "      <td>-0.949205</td>\n",
       "      <td>-1.037964</td>\n",
       "      <td>-1.181624</td>\n",
       "    </tr>\n",
       "    <tr>\n",
       "      <th>3</th>\n",
       "      <td>-1.215908</td>\n",
       "      <td>0.621575</td>\n",
       "      <td>1.138276</td>\n",
       "      <td>-0.213200</td>\n",
       "      <td>-0.063515</td>\n",
       "      <td>-0.189159</td>\n",
       "      <td>-0.087006</td>\n",
       "      <td>-0.696874</td>\n",
       "    </tr>\n",
       "    <tr>\n",
       "      <th>4</th>\n",
       "      <td>0.863472</td>\n",
       "      <td>-0.709812</td>\n",
       "      <td>-0.290979</td>\n",
       "      <td>0.387584</td>\n",
       "      <td>0.072983</td>\n",
       "      <td>0.272074</td>\n",
       "      <td>0.103715</td>\n",
       "      <td>0.513388</td>\n",
       "    </tr>\n",
       "  </tbody>\n",
       "</table>\n",
       "</div>"
      ],
      "text/plain": [
       "   longitude  latitude  housing_median_age  total_rooms  total_bedrooms  \\\n",
       "0  -1.131137  1.910919            1.852903    -0.978590       -1.042943   \n",
       "1  -1.126150  0.766393           -0.926203     0.199464        0.168770   \n",
       "2   0.708890 -0.700469            1.852903    -1.024236       -1.002233   \n",
       "3  -1.215908  0.621575            1.138276    -0.213200       -0.063515   \n",
       "4   0.863472 -0.709812           -0.290979     0.387584        0.072983   \n",
       "\n",
       "   population  households  median_income  \n",
       "0   -0.994072   -1.051209      -1.222289  \n",
       "1    0.548454    0.278543       0.717610  \n",
       "2   -0.949205   -1.037964      -1.181624  \n",
       "3   -0.189159   -0.087006      -0.696874  \n",
       "4    0.272074    0.103715       0.513388  "
      ]
     },
     "execution_count": 6,
     "metadata": {},
     "output_type": "execute_result"
    }
   ],
   "source": [
    "##  START CODE  ##\n",
    "Xscaled_train_df = pd.DataFrame(Xscaled_train, columns = list(X))\n",
    "Xscaled_train_df.head()\n",
    "##  END CODE    ##"
   ]
  },
  {
   "cell_type": "markdown",
   "metadata": {
    "id": "sWPxRJlVzWoa"
   },
   "source": [
    "Select any two variables. See how their histograms and scatterplots compare before and after scaling."
   ]
  },
  {
   "cell_type": "code",
   "execution_count": 7,
   "metadata": {
    "id": "62kY3ExAzWoa"
   },
   "outputs": [
    {
     "data": {
      "text/plain": [
       "Text(0.5, 0, 'Households Scaled')"
      ]
     },
     "execution_count": 7,
     "metadata": {},
     "output_type": "execute_result"
    },
    {
     "data": {
      "image/png": "[encoded data removed]",
      "text/plain": [
       "<Figure size 1200x400 with 2 Axes>"
      ]
     },
     "metadata": {},
     "output_type": "display_data"
    },
    {
     "data": {
      "image/png": "[encoded data removed]",
      "text/plain": [
       "<Figure size 1200x400 with 2 Axes>"
      ]
     },
     "metadata": {},
     "output_type": "display_data"
    }
   ],
   "source": [
    "##  START CODE  ##\n",
    "\n",
    "#Median Income Histogram \n",
    "plt.figure(figsize=(12, 4))\n",
    "plt.subplot(1, 2, 1)\n",
    "plt.hist(X_train['median_income'], bins=25)\n",
    "plt.xlabel('Median Income')\n",
    "#Scaled Median Income Histogram\n",
    "plt.subplot(1, 2, 2)\n",
    "plt.hist(Xscaled_train_df['median_income'], bins=25)\n",
    "plt.xlabel('Median Income Scaled')\n",
    "\n",
    "#Households Plot \n",
    "plt.figure(figsize=(12, 4))\n",
    "plt.subplot(1, 2, 1)\n",
    "plt.hist(X_train['households'], bins=25)\n",
    "plt.xlabel('Households')\n",
    "#Scaled Households Plot\n",
    "plt.subplot(1, 2, 2)\n",
    "plt.hist(Xscaled_train_df['households'], bins=25)\n",
    "plt.xlabel('Households Scaled')\n"
   ]
  },
  {
   "cell_type": "code",
   "execution_count": 8,
   "metadata": {},
   "outputs": [
    {
     "data": {
      "text/plain": [
       "Text(0.5, 0, 'Scaled Households')"
      ]
     },
     "execution_count": 8,
     "metadata": {},
     "output_type": "execute_result"
    },
    {
     "data": {
      "image/png": "[encoded data removed]",
      "text/plain": [
       "<Figure size 1200x600 with 2 Axes>"
      ]
     },
     "metadata": {},
     "output_type": "display_data"
    },
    {
     "data": {
      "image/png": "[encoded data removed]",
      "text/plain": [
       "<Figure size 1200x600 with 2 Axes>"
      ]
     },
     "metadata": {},
     "output_type": "display_data"
    }
   ],
   "source": [
    "#Median Income vs Scatterplot\n",
    "plt.figure(figsize=(12,6))\n",
    "plt.subplot(1, 2, 1)\n",
    "plt.scatter(X_train['median_income'], y_train)\n",
    "plt.xlabel('Median Income')\n",
    "plt.ylabel('Median House Value')\n",
    "#Scaled Median Income Histogram\n",
    "#plt.figure(figsize=(6,3))\n",
    "plt.subplot(1, 2, 2)\n",
    "plt.scatter(Xscaled_train_df['median_income'], y_train)\n",
    "plt.xlabel('Scaled Median Income')\n",
    "\n",
    "\n",
    "#Median Income vs Scatterplot\n",
    "plt.figure(figsize=(12,6))\n",
    "plt.subplot(1, 2, 1)\n",
    "plt.scatter(X_train['households'], y_train)\n",
    "plt.xlabel('Households')\n",
    "plt.ylabel('Median House Value')\n",
    "#Scaled Median Income Histogram\n",
    "#plt.figure(figsize=(6,3))\n",
    "plt.subplot(1, 2, 2)\n",
    "plt.scatter(Xscaled_train_df['households'], y_train)\n",
    "plt.xlabel('Scaled Households')\n",
    "##  END CODE    ##"
   ]
  },
  {
   "cell_type": "markdown",
   "metadata": {
    "id": "KawI2XbhzWob"
   },
   "source": [
    "> *The plots look the same, only the x-axis is different due to the scaling*"
   ]
  },
  {
   "cell_type": "markdown",
   "metadata": {
    "id": "sHlAhbauzWob"
   },
   "source": [
    "## Part-2: *(5 pts)*"
   ]
  },
  {
   "cell_type": "markdown",
   "metadata": {
    "id": "0RT99GSzzWob"
   },
   "source": [
    "Use `sklearn.linear_model.Lasso` and `sklearn.linear_model.Ridge` classes to do a 5-fold cross validation using sklearn's `KFold`. For the sweep of the regularization parameter, we will look at a grid of values ranging from  $\\alpha=10^{-6}$  to  $\\alpha=10^{6}$.In Python, you can consider this range of values as follows: `alpha = 10**numpy.linspace(-6, 6, 100)` so that you can generate 100 uniform values between -6 to 6 as power series."
   ]
  },
  {
   "cell_type": "markdown",
   "metadata": {
    "id": "KW5FcTDRzWob"
   },
   "source": [
    "Fit the 2 regression models (Lasso and Ridge) with scaled data and report the best chosen $\\alpha$ based on cross validation as well as the corresponding scoring metric. The cross validation should happen on your training data using MSE as the scoring metric."
   ]
  },
  {
   "cell_type": "code",
   "execution_count": 9,
   "metadata": {
    "id": "TE4l9nLEBo6z"
   },
   "outputs": [],
   "source": [
    "# Define number of folds\n",
    "##  START CODE  ## (1 line of code)\n",
    "n_folds = 5\n",
    "##  END CODE  ##\n"
   ]
  },
  {
   "cell_type": "code",
   "execution_count": 10,
   "metadata": {
    "id": "-hTeW3JKF8ml"
   },
   "outputs": [],
   "source": [
    "# Create KFold from sklearn\n",
    "##  START CODE  ## (1 line of code)\n",
    "k_fold = KFold(n_splits=n_folds, shuffle=True, random_state=50)\n",
    "##  END CODE    ##\n"
   ]
  },
  {
   "cell_type": "code",
   "execution_count": 11,
   "metadata": {
    "id": "BjKRXwTFzWob"
   },
   "outputs": [],
   "source": [
    "#Define the alphas as defined in the question\n",
    "##  START CODE  ## (1 line of code)\n",
    "alphas = 10**np.linspace(-6, 6, 100)\n",
    "##  END CODE    ##\n",
    "\n",
    "lasso_avg_mse = {}\n",
    "ridge_avg_mse = {}"
   ]
  },
  {
   "cell_type": "code",
   "execution_count": 13,
   "metadata": {
    "id": "v-VBrbOnCgm4"
   },
   "outputs": [],
   "source": [
    "#For each value of alpha and each fold compute the mean square error\n",
    "for alpha in alphas:\n",
    "\n",
    "  #Instantiate a lasso model with the current alpha\n",
    "  ##  START CODE  ## (1 line of code)\n",
    "  lasso = sklearn.linear_model.Lasso(alpha=alpha)\n",
    "  ##  END CODE    ##\n",
    "\n",
    "  avg_mse = 0\n",
    "\n",
    "  for k, (train, test) in enumerate(k_fold.split(Xscaled_train, y_train)):\n",
    "\n",
    "    #Fit the scaled training data to the lasso model\n",
    "    ## START CODE ## (1 line of code)\n",
    "    lasso.fit(Xscaled_train[train], y_train[train])\n",
    "    ## END CODE ##\n",
    "\n",
    "    #Calculate the average mean sqaured error\n",
    "    ##  START CODE  ## (1 line of code)\n",
    "    avg_mse += mean_squared_error(y_train[test], lasso.predict(Xscaled_train[test]))\n",
    "    ##  END CODE    ##\n",
    "\n",
    "  # Take the average mean squared error as metric\n",
    "  lasso_avg_mse[alpha] = avg_mse / n_folds"
   ]
  },
  {
   "cell_type": "code",
   "execution_count": 14,
   "metadata": {
    "id": "a4CM_0joFe8S"
   },
   "outputs": [
    {
     "name": "stdout",
     "output_type": "stream",
     "text": [
      "Best lasso alpha: 57.2236765935022\n"
     ]
    }
   ],
   "source": [
    "# Find the best value for alpha with minimum mean squared error\n",
    "##  START CODE  ## (1 line of code)\n",
    "best_alpha_lasso = min(lasso_avg_mse, key=lasso_avg_mse.get)\n",
    "##  END CODE    ##\n",
    "\n",
    "print(\"Best lasso alpha: {}\".format(best_alpha_lasso))"
   ]
  },
  {
   "cell_type": "code",
   "execution_count": 19,
   "metadata": {
    "id": "RXcr50EVG71p"
   },
   "outputs": [],
   "source": [
    "#For each value of alpha and each fold compute the mean square error\n",
    "for alpha in alphas:\n",
    "\n",
    "  #Instantiate a ridge model with the current alpha\n",
    "  ##  START CODE  ## (1 line of code)\n",
    "  ridge = sklearn.linear_model.Ridge(alpha=alpha)\n",
    "  ##  END CODE    ##\n",
    "\n",
    "  avg_mse = 0\n",
    "\n",
    "  for k, (train, test) in enumerate(k_fold.split(Xscaled_train, y_train)):\n",
    "\n",
    "    #Fit the scaled training data to the ridge model\n",
    "    ## START CODE ## (1 line of code)\n",
    "    ridge.fit(Xscaled_train[train], y_train[train])\n",
    "    ## END CODE ##\n",
    "\n",
    "    #Calculate the average mean sqaured error\n",
    "    ##  START CODE  ## (1 line of code)\n",
    "    avg_mse += mean_squared_error(y_train[test], ridge.predict(Xscaled_train[test]))\n",
    "    ##  END CODE    ##\n",
    "\n",
    "  # Take the average mean squared error as metric\n",
    "  ridge_avg_mse[alpha] = avg_mse / n_folds"
   ]
  },
  {
   "cell_type": "code",
   "execution_count": 20,
   "metadata": {
    "id": "w1LiJKj3HRpV"
   },
   "outputs": [
    {
     "name": "stdout",
     "output_type": "stream",
     "text": [
      "Best ridge alpha: 14.174741629268048\n"
     ]
    }
   ],
   "source": [
    "# Find the best value for alpha with minimum mean squared error\n",
    "##  START CODE  ## (1 line of code)\n",
    "best_alpha_ridge = min(lasso_avg_mse, key=ridge_avg_mse.get)\n",
    "##  END CODE    ##\n",
    "\n",
    "print(\"Best ridge alpha: {}\".format(best_alpha_ridge))"
   ]
  },
  {
   "cell_type": "markdown",
   "metadata": {
    "id": "Qs4ytzCHzWob"
   },
   "source": [
    "## Part-3: *(7 pts)*"
   ]
  },
  {
   "cell_type": "markdown",
   "metadata": {
    "id": "ebGlK_-KzWob"
   },
   "source": [
    "Run ridge and lasso regression for all of the $\\alpha$ specified above (on training data), and plot the coefficients learned for each of them - there should be one plot each for lasso and ridge, so a total of two plots; different features' weights of each model should be on the same plot with different colors."
   ]
  },
  {
   "cell_type": "code",
   "execution_count": null,
   "metadata": {
    "id": "Dk560hkwzWob"
   },
   "outputs": [],
   "source": [
    "# Lasso Regression\n",
    "\n",
    "alphas = 10**np.linspace(6,-6,100)\n",
    "\n",
    "lasso = linear_model.Lasso(alpha=alpha)\n",
    "coefs = []\n",
    "\n",
    "for a in alphas:\n",
    "  #Specify current alpha as parameter for the lasso model\n",
    "  ## START CODE ## (1 line of code)\n",
    "\n",
    "  ## END CODE ##\n",
    "\n",
    "  #Fit the training data to the lasso model\n",
    "  ## START CODE ## (1 line of code)\n",
    "\n",
    "  ## END CODE ##\n",
    "\n",
    "  #Store learned coefficients in the coef variable\n",
    "  ## START CODE ## (1 line of code)\n",
    "\n",
    "  ## END CODE ##"
   ]
  },
  {
   "cell_type": "code",
   "execution_count": null,
   "metadata": {
    "id": "WFxhwgHNY1wL"
   },
   "outputs": [],
   "source": [
    "# Write the code to make the plot for coefficients learned from lasso\n",
    "## START CODE ##\n",
    "\n",
    "## END CODE ##"
   ]
  },
  {
   "cell_type": "code",
   "execution_count": null,
   "metadata": {
    "id": "qRiJhDbCWHYJ"
   },
   "outputs": [],
   "source": [
    "# Ridge Regression\n",
    "\n",
    "alphas = 10**np.linspace(6,-6,100)\n",
    "\n",
    "ridge = linear_model.Ridge(alpha=alpha)\n",
    "coefs = []\n",
    "\n",
    "for a in alphas:\n",
    "  #Specify current alpha as parameter for the ridge model\n",
    "  ## START CODE ## (1 line of code)\n",
    "\n",
    "  ## END CODE ##\n",
    "\n",
    "  #Fit the training data to the ridge model\n",
    "  ## START CODE ## (1 line of code)\n",
    "\n",
    "  ## END CODE ##\n",
    "\n",
    "  #Store learned coefficients in the coef variable\n",
    "  ## START CODE ## (1 line of code)\n",
    "\n",
    "  ## END CODE ##"
   ]
  },
  {
   "cell_type": "code",
   "execution_count": null,
   "metadata": {
    "id": "r6mWtQWAY_05"
   },
   "outputs": [],
   "source": [
    "# Write the code to make the plot for coefficients learned from ridge\n",
    "## START CODE ##\n",
    "\n",
    "## END CODE ##"
   ]
  },
  {
   "cell_type": "markdown",
   "metadata": {
    "id": "u4ToCYI_zWob"
   },
   "source": [
    "What do you qualitatively observe when the value of the regularization parameter changes?"
   ]
  },
  {
   "cell_type": "markdown",
   "metadata": {
    "id": "CGioS5clzWob"
   },
   "source": [
    "> *Answer here*"
   ]
  },
  {
   "cell_type": "markdown",
   "metadata": {
    "id": "KNuyxETgzWoc"
   },
   "source": [
    "## Part-4: *(5 pts)*"
   ]
  },
  {
   "cell_type": "markdown",
   "metadata": {
    "id": "Nl4QyJ8RzWoc"
   },
   "source": [
    "Similarly, use `sklearn.linear_model.ElasticNet` to do linear regression with different $\\alpha$ values, and plot the coefficients learned for each of them"
   ]
  },
  {
   "cell_type": "code",
   "execution_count": null,
   "metadata": {
    "id": "IAb8VHJyzWoh"
   },
   "outputs": [],
   "source": [
    "# Ridge Regression\n",
    "\n",
    "alphas = 10**np.linspace(6,-6,100)\n",
    "\n",
    "ElastNet = linear_model.ElasticNet(alpha=alpha)\n",
    "coefs = []\n",
    "\n",
    "for a in alphas:\n",
    "  #Specify current alpha as parameter for the ElasticNet model\n",
    "  ## START CODE ## (1 line of code)\n",
    "\n",
    "  ## END CODE ##\n",
    "\n",
    "  #Fit the training data to the ElasticNet model\n",
    "  ## START CODE ## (1 line of code)\n",
    "\n",
    "  ## END CODE ##\n",
    "\n",
    "  #Store learned coefficients in the coef variable\n",
    "  ## START CODE ## (1 line of code)\n",
    "\n",
    "  ## END CODE ##"
   ]
  },
  {
   "cell_type": "code",
   "execution_count": null,
   "metadata": {
    "id": "hiAe5JkaZTez"
   },
   "outputs": [],
   "source": [
    "# Write the code to make the plot for coefficients learned from ElasticNet\n",
    "## START CODE ##\n",
    "\n",
    "## END CODE ##"
   ]
  },
  {
   "cell_type": "markdown",
   "metadata": {
    "id": "5aPjEz4azWoh"
   },
   "source": [
    "Observe the plot, then explain the pros and cons of ridge, lasso and Elastic Net models."
   ]
  },
  {
   "cell_type": "markdown",
   "metadata": {
    "id": "R0VhGFq8zWoh"
   },
   "source": [
    "> *Answer here*"
   ]
  },
  {
   "cell_type": "markdown",
   "metadata": {
    "id": "lsr0eyXxzWoi"
   },
   "source": [
    "## Part-5: *(10 pts)*"
   ]
  },
  {
   "cell_type": "markdown",
   "metadata": {
    "id": "6oK1Mplulr9g"
   },
   "source": [
    "Run the following three regression models with MSE loss on the training data:\n",
    "\n",
    "a. linear regression without regularization\n",
    "\n",
    "b. linear regression with ridge regularization\n",
    "\n",
    "c. linear regression with lasso regularization"
   ]
  },
  {
   "cell_type": "markdown",
   "metadata": {
    "id": "UCgN_M8FmFy0"
   },
   "source": [
    "\n",
    "For part (b) and (c), use only the best regularization parameters. Report the MSE and R2 on the test data for each of the models."
   ]
  },
  {
   "cell_type": "code",
   "execution_count": null,
   "metadata": {
    "id": "0vInxZtUl01E"
   },
   "outputs": [],
   "source": [
    "## START CODE ##\n",
    "\n",
    "## END CODE ##"
   ]
  },
  {
   "cell_type": "markdown",
   "metadata": {
    "id": "YaTLxColzWoi"
   },
   "source": [
    "## Part-6: *(3 pts)*"
   ]
  },
  {
   "cell_type": "markdown",
   "metadata": {
    "id": "LyEUlDFEzWoi"
   },
   "source": [
    "Train the 3 models and report metrics with the original data without scaling"
   ]
  },
  {
   "cell_type": "code",
   "execution_count": null,
   "metadata": {
    "id": "Abt6faNNzWoi"
   },
   "outputs": [],
   "source": [
    "##  START CODE  ##\n",
    "\n",
    "##  END CODE    ##"
   ]
  },
  {
   "cell_type": "markdown",
   "metadata": {
    "id": "SjLMZ2DgzWoi"
   },
   "source": [
    "## Part-7: *(3 pts)*"
   ]
  },
  {
   "cell_type": "markdown",
   "metadata": {
    "id": "VA_dCZlRzWoi"
   },
   "source": [
    "Why is it advisable to scale the independent variables when applying ridge or  lasso regression?"
   ]
  }
 ],
 "metadata": {
  "colab": {
   "provenance": []
  },
  "kernelspec": {
   "display_name": "Python 3 (ipykernel)",
   "language": "python",
   "name": "python3"
  },
  "language_info": {
   "codemirror_mode": {
    "name": "ipython",
    "version": 3
   },
   "file_extension": ".py",
   "mimetype": "text/x-python",
   "name": "python",
   "nbconvert_exporter": "python",
   "pygments_lexer": "ipython3",
   "version": "3.10.10"
  }
 },
 "nbformat": 4,
 "nbformat_minor": 1
}
