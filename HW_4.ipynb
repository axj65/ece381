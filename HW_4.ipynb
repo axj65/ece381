{
  "cells": [
    {
      "cell_type": "markdown",
      "metadata": {
        "id": "vd-hdGW8zt62"
      },
      "source": [
        "# Assignment 4 #\n",
        "### Due: Friday, October 27th to be submitted via Canvas by 11:59 pm ###\n",
        "### Total points: **80** ###"
      ]
    },
    {
      "cell_type": "markdown",
      "metadata": {
        "id": "WsXxbQYoSU9F"
      },
      "source": [
        "## Q1. (10 points) Bayes Optimal Classifier\n",
        "\n",
        "Consider a one-dimensional dataset  $(X)$ that consists of data from three different classes - $\\{c_1, c_2, c_3\\}$.  Data from class $c_1$ are distributed according to $Uniform[-1,1]$, those from $c_2$ are distributed according to $Uniform[-2,2]$ and those from $c_3$ are distributed according to $Uniform[-4,4]$.\n",
        "The priors for the three classes are:\n",
        "$\\mathbb{P} (c_1) = \\frac{1}{2}$,   $\\mathbb{P} (c_2) = \\frac{1}{3}$,\n",
        "  $\\mathbb{P} (c_3) = \\frac{1}{6}$.\n",
        "\n",
        "Now, we want to build a 3-class classifier based on bayes optimal decision theory to predict the most likely label for any given data point.\n",
        "\n",
        "a. (2 points) Write down the class-conditional data distributions for each of the classes defined above.\n",
        "\n",
        "b. (4 points). Derive the Bayes optimal decision boundaries for this problem.\n",
        "\n",
        "c. (4 points) What is the Bayes Error rate for this classifier?"
      ]
    },
    {
      "cell_type": "markdown",
      "metadata": {
        "id": "s7NhKJDWSskm"
      },
      "source": [
        "## Q2. (10 points) Multi-class Logistic Regression Derivation\n",
        "\n",
        "To use Logistic Regression for multi-class setting with K classes - $\\{1,2, ... K\\}$, we need to learn $K-1$ $d$-dimensional weight vectors, $\\{w_1, w_2, ..., w_{K-1}\\}$ which then provide the posterior probabilities for each class in the following way -\n",
        "\n",
        "\\begin{align}\n",
        "  \\mathbb{P} (y = k|x) =\n",
        "  \\begin{cases}\n",
        "                                   \\dfrac{exp(w_k^Tx)}{1 + \\sum_{i=1}^{K-1}exp(w_i^Tx)} & \\text{for }k \\in [1,K-1] \\\\\n",
        "                                   \\dfrac{1}{1 + \\sum_{i=1}^{K-1}exp(w_i^Tx)} & \\text{for } k = K\n",
        "  \\end{cases}\n",
        "\\end{align}\n",
        "\n",
        "Suppose you are given a dataset $(X,Y)$ consisting of $N$ data-points where each $x$ is in $d$-dimensions, and $y \\in [1, 2, ... K]$.\n",
        "\n",
        "a. (3 points) Write down the total conditional likelihood of observing the corresponding y's for the given x's in the dataset, under the model specified above.\n",
        "\n",
        "b. (7 points) Derive the update equation for any $w_i$ that can be used to learn $w_i$ via gradient descent."
      ]
    },
    {
      "cell_type": "markdown",
      "metadata": {
        "id": "rTp1b99htJB7"
      },
      "source": [
        "## Q3. (25 points) Introduction to PyTorch\n",
        "\n",
        "In this exercise, you will be introduced to PyTorch through an example on SVHN (Street View House Numbers) classification.\n",
        "If you want to run it locally, please check out this [link](https://pytorch.org/get-started/locally/) to install PyTorch. Otherwise, you can just use Google Colab.\n",
        "\n",
        "Here is a [tutorial](https://pytorch.org/tutorials/beginner/basics/quickstart_tutorial.html) for you to quickly to get familiar with PyTorch and finish the problems below.\n",
        "\n"
      ]
    },
    {
      "cell_type": "code",
      "execution_count": 1,
      "metadata": {
        "id": "li3b7qcGtJCK"
      },
      "outputs": [],
      "source": [
        "import torch\n",
        "import torch.nn as nn\n",
        "import torch.nn.functional as F\n",
        "from torch.utils.data import DataLoader\n",
        "import torchvision\n",
        "from sklearn.metrics import accuracy_score, confusion_matrix\n",
        "import matplotlib.pyplot as plt\n",
        "from tqdm import tqdm\n",
        "import seaborn as sn\n",
        "import pandas as pd\n",
        "from torchvision import datasets, transforms\n"
      ]
    },
    {
      "cell_type": "markdown",
      "metadata": {
        "id": "ZGHR2QXLtJCK"
      },
      "source": [
        "a. (5 points) Load the SVHN dataset from torchvision.datasets with the transform specified below and show the first 5 images of the training set.\n",
        "\n",
        "Tutorial reference:\n",
        "*    [Dataset and dataloaders](https://pytorch.org/tutorials/beginner/basics/data_tutorial.html)\n",
        "\n"
      ]
    },
    {
      "cell_type": "code",
      "execution_count": 2,
      "metadata": {
        "id": "lI0DdsfotJCK"
      },
      "outputs": [
        {
          "name": "stdout",
          "output_type": "stream",
          "text": [
            "Downloading http://ufldl.stanford.edu/housenumbers/train_32x32.mat to data/train_32x32.mat\n"
          ]
        },
        {
          "name": "stderr",
          "output_type": "stream",
          "text": [
            "100%|██████████| 182040794/182040794 [00:10<00:00, 16765101.97it/s]\n"
          ]
        },
        {
          "name": "stdout",
          "output_type": "stream",
          "text": [
            "Downloading http://ufldl.stanford.edu/housenumbers/test_32x32.mat to data/test_32x32.mat\n"
          ]
        },
        {
          "name": "stderr",
          "output_type": "stream",
          "text": [
            "100%|██████████| 64275384/64275384 [00:06<00:00, 9402700.32it/s] \n"
          ]
        }
      ],
      "source": [
        "transform=torchvision.transforms.Compose([\n",
        "        torchvision.transforms.ToTensor(),\n",
        "        torchvision.transforms.Normalize((0.4376821, 0.4437697, 0.47280442), (0.19803012, 0.20101562, 0.19703614))\n",
        "        ])\n",
        "\n",
        "# Load SVHN training and testing datasets from torchvision.datasets\n",
        "### START CODE ###\n",
        "train_dataset = datasets.SVHN(root='data', split='train', transform=transform, download=True)\n",
        "test_dataset = datasets.SVHN(root='data', split='test', transform=transform, download=True)\n",
        "### END CODE ###"
      ]
    },
    {
      "cell_type": "code",
      "execution_count": 3,
      "metadata": {
        "id": "dP8omOQ0tJCK"
      },
      "outputs": [
        {
          "data": {
            "text/plain": [
              "<matplotlib.image.AxesImage at 0x17c498be0>"
            ]
          },
          "execution_count": 3,
          "metadata": {},
          "output_type": "execute_result"
        },
        {
          "data": {
            "image/png": "[encoded data removed]",
            "text/plain": [
              "<Figure size 640x480 with 5 Axes>"
            ]
          },
          "metadata": {},
          "output_type": "display_data"
        }
      ],
      "source": [
        "f, axarr = plt.subplots(1,5)\n",
        "transform = torchvision.transforms.ToPILImage()\n",
        "axarr[0].imshow(transform(train_dataset[0][0]))\n",
        "axarr[1].imshow(transform(train_dataset[1][0]))\n",
        "axarr[2].imshow(transform(train_dataset[2][0]))\n",
        "axarr[3].imshow(transform(train_dataset[3][0]))\n",
        "axarr[4].imshow(transform(train_dataset[4][0]))"
      ]
    },
    {
      "cell_type": "markdown",
      "metadata": {
        "id": "uNg6I3urtJCK"
      },
      "source": [
        "b. (5 points) Split out 20% of the training set as the validation set and construct three data loaders: train_dataloader, val_dataloader, and test_dataloader. For the data loaders, set the batch sizes to 256 and set the train_dataloader to shuffled, which randomizes the mini-batch samples.\n",
        "\n",
        "Tutorial reference:\n",
        "*    [Dataset and dataloaders](https://pytorch.org/tutorials/beginner/basics/data_tutorial.html)\n",
        "\n",
        "\n",
        "\n",
        "\n",
        "\n"
      ]
    },
    {
      "cell_type": "code",
      "execution_count": 4,
      "metadata": {
        "id": "LRrqcvfstJCK"
      },
      "outputs": [],
      "source": [
        "train_num = int(len(train_dataset) * 0.8)\n",
        "val_num = len(train_dataset) - train_num\n",
        "\n",
        "# Randomly split the training dataset into training dataset and validation dataset\n",
        "### START CODE ###\n",
        "train_dataset, val_dataset = torch.utils.data.random_split(train_dataset, [train_num, val_num])\n",
        "### END CODE ###\n",
        "\n",
        "# Create data loaders\n",
        "### START CODE ###\n",
        "train_loader = torch.utils.data.DataLoader(train_dataset, batch_size=256, shuffle=True)\n",
        "val_loader = torch.utils.data.DataLoader(val_dataset, batch_size=256, shuffle=False)\n",
        "test_loader = torch.utils.data.DataLoader(test_dataset, batch_size=256, shuffle=False)\n",
        "### END CODE ###\n"
      ]
    },
    {
      "cell_type": "markdown",
      "metadata": {
        "id": "I0S4qfr5tJCL"
      },
      "source": [
        "c. (5 points) Build a multiple layer perceptron with the following sequential structure:\n",
        "\n",
        "\n",
        "*   Fully connected layer mapping from 32 * 32 * 3 dimensions to 50 dimensions\n",
        "*   ReLU activation\n",
        "*   Fully connected layer mapping from 50 dimensions to 50 dimensions\n",
        "*   ReLU activation\n",
        "*   Fully connected layer mapping from 50 dimensions to 10 dimensions\n",
        "\n",
        "Then, create an model with the MLP class and an Adam optimizer that will be optimizing the MLP's parameters. Set the initial learning rate to be 0.001.\n",
        "\n",
        "Tutorial reference:\n",
        "*   [Build the neural network](https://pytorch.org/tutorials/beginner/basics/buildmodel_tutorial.html)\n",
        "\n",
        "\n"
      ]
    },
    {
      "cell_type": "code",
      "execution_count": 5,
      "metadata": {},
      "outputs": [
        {
          "name": "stdout",
          "output_type": "stream",
          "text": [
            "Using mps device\n"
          ]
        }
      ],
      "source": [
        "device = (\n",
        "    \"cuda\"\n",
        "    if torch.cuda.is_available()\n",
        "    else \"mps\"\n",
        "    if torch.backends.mps.is_available()\n",
        "    else \"cpu\"\n",
        ")\n",
        "print(f\"Using {device} device\")"
      ]
    },
    {
      "cell_type": "code",
      "execution_count": 6,
      "metadata": {
        "id": "MdApOMXMtJCL"
      },
      "outputs": [],
      "source": [
        "class MLP(nn.Module):\n",
        "    def __init__(self):\n",
        "        super(MLP, self).__init__()\n",
        "        # Create fully connected layers (nn.Linear)\n",
        "        ### START CODE ###\n",
        "        self.flatten = nn.Flatten()\n",
        "        self.linear_relu_stack = nn.Sequential(\n",
        "            nn.Linear(32*32*3, 50),\n",
        "            nn.ReLU(),\n",
        "            nn.Linear(50, 50),\n",
        "            nn.ReLU(),\n",
        "            nn.Linear(50, 10),\n",
        "        )\n",
        "\n",
        "        ### END CODE ###\n",
        "\n",
        "    def forward(self, x):\n",
        "        # Flatten the input x and pass it through the neural network\n",
        "        #x = x.view(-1, 32*32*3)\n",
        "        ### START CODE ###\n",
        "        x = self.flatten(x)\n",
        "        x = self.linear_relu_stack(x)\n",
        "        ### END CODE ###\n",
        "        return x\n"
      ]
    },
    {
      "cell_type": "code",
      "execution_count": 7,
      "metadata": {
        "id": "gd8WOqmftJCL"
      },
      "outputs": [],
      "source": [
        "model = MLP()\n",
        "\n",
        "# Create the optimizer\n",
        "### START CODE ###\n",
        "optimizer = torch.optim.Adam(model.parameters(), lr=0.001)\n",
        "### END CODE ###"
      ]
    },
    {
      "cell_type": "markdown",
      "metadata": {
        "id": "PGbPvYJutJCL"
      },
      "source": [
        "d. (5 points) Write training and evaluation subroutines per epoch (one full pass of the dataset). Then, train the model for 20 epochs using these subroutines.\n",
        "\n",
        "Tutorial reference:\n",
        "*   [Optimizing model parameters](https://pytorch.org/tutorials/beginner/basics/optimization_tutorial.html)\n",
        "\n"
      ]
    },
    {
      "cell_type": "code",
      "execution_count": 9,
      "metadata": {
        "id": "JCu_Z4CttJCL"
      },
      "outputs": [],
      "source": [
        "def train(model, loader, optimizer):\n",
        "    model.train()\n",
        "    total_loss = 0\n",
        "    total_num = 0\n",
        "    for data, target in tqdm(loader):\n",
        "        out = model(data)\n",
        "        \n",
        "        # Calculate loss based on model output and target\n",
        "        ### START CODE ###\n",
        "        loss = torch.nn.functional.cross_entropy(out, target)\n",
        "        ### END CODE ###\n",
        "\n",
        "        # Use the optimizer to perform backpropagation\n",
        "        ### START CODE ###\n",
        "        loss.backward()\n",
        "        optimizer.step()\n",
        "        optimizer.zero_grad()\n",
        "        ### END CODE ###\n",
        "\n",
        "        batch_size = len(target)\n",
        "        total_loss += loss.item() * batch_size\n",
        "        total_num += batch_size\n",
        "    avg_loss = total_loss / total_num\n",
        "    return avg_loss\n",
        "\n",
        "@torch.no_grad()\n",
        "def eval(model, loader):\n",
        "    model.eval()\n",
        "    total_loss = 0\n",
        "    total_correct = 0\n",
        "    total_num = 0\n",
        "    for data, target in tqdm(loader):\n",
        "        out = model(data)\n",
        "        # Calculate loss based on model output and target\n",
        "        ### START CODE ###\n",
        "        loss = torch.nn.functional.cross_entropy(out, target)\n",
        "        ### END CODE ###\n",
        "\n",
        "        # Get model's prediction\n",
        "        ### START CODE ###\n",
        "        pred = out.argmax(dim=1)\n",
        "        ### END CODE ###\n",
        "\n",
        "        # Count number of correct predictions\n",
        "        ### START CODE ###\n",
        "        correct = pred.eq(target).sum().item()\n",
        "        ### END CODE ###\n",
        "\n",
        "        total_correct += correct\n",
        "        batch_size = len(target)\n",
        "        total_loss += loss.item() * batch_size\n",
        "        total_num += batch_size\n",
        "    avg_loss = total_loss / total_num\n",
        "    acc = total_correct / total_num\n",
        "    return avg_loss, acc\n"
      ]
    },
    {
      "cell_type": "code",
      "execution_count": 10,
      "metadata": {
        "id": "zCYFwetHtJCL"
      },
      "outputs": [
        {
          "name": "stderr",
          "output_type": "stream",
          "text": [
            "100%|██████████| 229/229 [00:03<00:00, 58.21it/s]\n",
            "100%|██████████| 58/58 [00:00<00:00, 67.53it/s]\n"
          ]
        },
        {
          "name": "stdout",
          "output_type": "stream",
          "text": [
            "Epoch: 1 Train Loss: 1.4560582520215037 Val Loss: 1.0830093702591739 Val Acc: 0.6700791700791701\n"
          ]
        },
        {
          "name": "stderr",
          "output_type": "stream",
          "text": [
            "100%|██████████| 229/229 [00:03<00:00, 60.56it/s]\n",
            "100%|██████████| 58/58 [00:00<00:00, 67.22it/s]\n"
          ]
        },
        {
          "name": "stdout",
          "output_type": "stream",
          "text": [
            "Epoch: 2 Train Loss: 0.9602998207620504 Val Loss: 0.9307082756243212 Val Acc: 0.7177859677859678\n"
          ]
        },
        {
          "name": "stderr",
          "output_type": "stream",
          "text": [
            "100%|██████████| 229/229 [00:03<00:00, 60.81it/s]\n",
            "100%|██████████| 58/58 [00:00<00:00, 65.39it/s]\n"
          ]
        },
        {
          "name": "stdout",
          "output_type": "stream",
          "text": [
            "Epoch: 3 Train Loss: 0.843720335677036 Val Loss: 0.8334157648159447 Val Acc: 0.7541632541632541\n"
          ]
        },
        {
          "name": "stderr",
          "output_type": "stream",
          "text": [
            "100%|██████████| 229/229 [00:04<00:00, 52.47it/s]\n",
            "100%|██████████| 58/58 [00:01<00:00, 40.35it/s]\n"
          ]
        },
        {
          "name": "stdout",
          "output_type": "stream",
          "text": [
            "Epoch: 4 Train Loss: 0.779283114453345 Val Loss: 0.7991692939320126 Val Acc: 0.7644690144690145\n"
          ]
        },
        {
          "name": "stderr",
          "output_type": "stream",
          "text": [
            "100%|██████████| 229/229 [00:04<00:00, 49.58it/s]\n",
            "100%|██████████| 58/58 [00:00<00:00, 66.98it/s]\n"
          ]
        },
        {
          "name": "stdout",
          "output_type": "stream",
          "text": [
            "Epoch: 5 Train Loss: 0.7209163783587406 Val Loss: 0.8125713729253077 Val Acc: 0.7631722631722632\n"
          ]
        },
        {
          "name": "stderr",
          "output_type": "stream",
          "text": [
            "100%|██████████| 229/229 [00:03<00:00, 60.48it/s]\n",
            "100%|██████████| 58/58 [00:00<00:00, 67.15it/s]\n"
          ]
        },
        {
          "name": "stdout",
          "output_type": "stream",
          "text": [
            "Epoch: 6 Train Loss: 0.6878223451928529 Val Loss: 0.7784349560867787 Val Acc: 0.7740922740922741\n"
          ]
        },
        {
          "name": "stderr",
          "output_type": "stream",
          "text": [
            "100%|██████████| 229/229 [00:03<00:00, 61.10it/s]\n",
            "100%|██████████| 58/58 [00:00<00:00, 67.17it/s]\n"
          ]
        },
        {
          "name": "stdout",
          "output_type": "stream",
          "text": [
            "Epoch: 7 Train Loss: 0.6551567440583798 Val Loss: 0.7479663998938114 Val Acc: 0.7832377832377833\n"
          ]
        },
        {
          "name": "stderr",
          "output_type": "stream",
          "text": [
            "100%|██████████| 229/229 [00:04<00:00, 54.03it/s]\n",
            "100%|██████████| 58/58 [00:01<00:00, 39.48it/s]\n"
          ]
        },
        {
          "name": "stdout",
          "output_type": "stream",
          "text": [
            "Epoch: 8 Train Loss: 0.6352436355260561 Val Loss: 0.7306243546048767 Val Acc: 0.7916325416325416\n"
          ]
        },
        {
          "name": "stderr",
          "output_type": "stream",
          "text": [
            "100%|██████████| 229/229 [00:05<00:00, 43.67it/s]\n",
            "100%|██████████| 58/58 [00:00<00:00, 64.80it/s]\n"
          ]
        },
        {
          "name": "stdout",
          "output_type": "stream",
          "text": [
            "Epoch: 9 Train Loss: 0.6208281576974167 Val Loss: 0.7276507487656346 Val Acc: 0.7925197925197925\n"
          ]
        },
        {
          "name": "stderr",
          "output_type": "stream",
          "text": [
            "100%|██████████| 229/229 [00:03<00:00, 59.16it/s]\n",
            "100%|██████████| 58/58 [00:00<00:00, 67.36it/s]\n"
          ]
        },
        {
          "name": "stdout",
          "output_type": "stream",
          "text": [
            "Epoch: 10 Train Loss: 0.6090675167028087 Val Loss: 0.7085346843484904 Val Acc: 0.799003549003549\n"
          ]
        },
        {
          "name": "stderr",
          "output_type": "stream",
          "text": [
            "100%|██████████| 229/229 [00:03<00:00, 60.96it/s]\n",
            "100%|██████████| 58/58 [00:00<00:00, 65.79it/s]\n"
          ]
        },
        {
          "name": "stdout",
          "output_type": "stream",
          "text": [
            "Epoch: 11 Train Loss: 0.5862311590857986 Val Loss: 0.6961010406325171 Val Acc: 0.8041223041223041\n"
          ]
        },
        {
          "name": "stderr",
          "output_type": "stream",
          "text": [
            "100%|██████████| 229/229 [00:03<00:00, 60.77it/s]\n",
            "100%|██████████| 58/58 [00:00<00:00, 66.00it/s]\n"
          ]
        },
        {
          "name": "stdout",
          "output_type": "stream",
          "text": [
            "Epoch: 12 Train Loss: 0.5763459226385581 Val Loss: 0.6878964295323482 Val Acc: 0.8056238056238056\n"
          ]
        },
        {
          "name": "stderr",
          "output_type": "stream",
          "text": [
            "100%|██████████| 229/229 [00:03<00:00, 60.97it/s]\n",
            "100%|██████████| 58/58 [00:00<00:00, 67.91it/s]\n"
          ]
        },
        {
          "name": "stdout",
          "output_type": "stream",
          "text": [
            "Epoch: 13 Train Loss: 0.5668415649780773 Val Loss: 0.6754566720688633 Val Acc: 0.8082855582855583\n"
          ]
        },
        {
          "name": "stderr",
          "output_type": "stream",
          "text": [
            "100%|██████████| 229/229 [00:03<00:00, 61.11it/s]\n",
            "100%|██████████| 58/58 [00:00<00:00, 67.35it/s]\n"
          ]
        },
        {
          "name": "stdout",
          "output_type": "stream",
          "text": [
            "Epoch: 14 Train Loss: 0.547906095152086 Val Loss: 0.6822661005373442 Val Acc: 0.8114933114933115\n"
          ]
        },
        {
          "name": "stderr",
          "output_type": "stream",
          "text": [
            "100%|██████████| 229/229 [00:03<00:00, 60.43it/s]\n",
            "100%|██████████| 58/58 [00:00<00:00, 67.60it/s]\n"
          ]
        },
        {
          "name": "stdout",
          "output_type": "stream",
          "text": [
            "Epoch: 15 Train Loss: 0.5407988018005458 Val Loss: 0.6796030655621246 Val Acc: 0.8091728091728092\n"
          ]
        },
        {
          "name": "stderr",
          "output_type": "stream",
          "text": [
            "100%|██████████| 229/229 [00:03<00:00, 60.48it/s]\n",
            "100%|██████████| 58/58 [00:00<00:00, 66.67it/s]\n"
          ]
        },
        {
          "name": "stdout",
          "output_type": "stream",
          "text": [
            "Epoch: 16 Train Loss: 0.5334457348377751 Val Loss: 0.6750620538635785 Val Acc: 0.808012558012558\n"
          ]
        },
        {
          "name": "stderr",
          "output_type": "stream",
          "text": [
            "100%|██████████| 229/229 [00:03<00:00, 60.86it/s]\n",
            "100%|██████████| 58/58 [00:00<00:00, 65.53it/s]\n"
          ]
        },
        {
          "name": "stdout",
          "output_type": "stream",
          "text": [
            "Epoch: 17 Train Loss: 0.5305626243741914 Val Loss: 0.6728208388521995 Val Acc: 0.8108108108108109\n"
          ]
        },
        {
          "name": "stderr",
          "output_type": "stream",
          "text": [
            "100%|██████████| 229/229 [00:03<00:00, 60.63it/s]\n",
            "100%|██████████| 58/58 [00:00<00:00, 67.93it/s]\n"
          ]
        },
        {
          "name": "stdout",
          "output_type": "stream",
          "text": [
            "Epoch: 18 Train Loss: 0.5171683031415667 Val Loss: 0.6903857544833378 Val Acc: 0.8076713076713077\n"
          ]
        },
        {
          "name": "stderr",
          "output_type": "stream",
          "text": [
            "100%|██████████| 229/229 [00:03<00:00, 62.03it/s]\n",
            "100%|██████████| 58/58 [00:00<00:00, 67.20it/s]\n"
          ]
        },
        {
          "name": "stdout",
          "output_type": "stream",
          "text": [
            "Epoch: 19 Train Loss: 0.5194324526498163 Val Loss: 0.6659881016562423 Val Acc: 0.8143598143598143\n"
          ]
        },
        {
          "name": "stderr",
          "output_type": "stream",
          "text": [
            "100%|██████████| 229/229 [00:03<00:00, 61.60it/s]\n",
            "100%|██████████| 58/58 [00:00<00:00, 67.65it/s]"
          ]
        },
        {
          "name": "stdout",
          "output_type": "stream",
          "text": [
            "Epoch: 20 Train Loss: 0.5132967420247174 Val Loss: 0.6704568927189772 Val Acc: 0.8126535626535627\n"
          ]
        },
        {
          "name": "stderr",
          "output_type": "stream",
          "text": [
            "\n"
          ]
        }
      ],
      "source": [
        "epochs = 20\n",
        "for e in range(1, epochs + 1):\n",
        "    train_loss = train(model, train_loader, optimizer)\n",
        "    val_loss, val_acc = eval(model, val_loader)\n",
        "    print(f\"Epoch: {e} Train Loss: {train_loss} Val Loss: {val_loss} Val Acc: {val_acc}\")"
      ]
    },
    {
      "cell_type": "markdown",
      "metadata": {
        "id": "9hLnE-UotJCL"
      },
      "source": [
        "e. (5 points) Evaluate your model's accuracy and confusion matrix on the test set. Print the test accuracy and plot the confusion matrix."
      ]
    },
    {
      "cell_type": "code",
      "execution_count": 11,
      "metadata": {
        "id": "BouPWmBAtJCL"
      },
      "outputs": [
        {
          "name": "stderr",
          "output_type": "stream",
          "text": [
            "100%|██████████| 102/102 [00:01<00:00, 64.70it/s]\n"
          ]
        },
        {
          "name": "stdout",
          "output_type": "stream",
          "text": [
            "Test accuracy: 0.7880685310387215\n"
          ]
        },
        {
          "data": {
            "text/plain": [
              "<AxesSubplot: >"
            ]
          },
          "execution_count": 11,
          "metadata": {},
          "output_type": "execute_result"
        },
        {
          "data": {
            "image/png": "[encoded data removed]",
            "text/plain": [
              "<Figure size 1000x700 with 2 Axes>"
            ]
          },
          "metadata": {},
          "output_type": "display_data"
        }
      ],
      "source": [
        "model.eval()\n",
        "total_correct = 0\n",
        "total_num = 0\n",
        "all_y_true = []\n",
        "all_y_pred = []\n",
        "with torch.no_grad():\n",
        "    for data, target in tqdm(test_loader):\n",
        "        out = model(data)\n",
        "        \n",
        "        # Get model's prediction\n",
        "        ### START CODE ###\n",
        "        pred = out.argmax(dim=1)\n",
        "        ### END CODE ###\n",
        "\n",
        "        # Get number of correct predictions\n",
        "        ### START CODE ###\n",
        "        correct = pred.eq(target).sum().item()\n",
        "        ### END CODE ###\n",
        "\n",
        "        total_correct += correct\n",
        "        batch_size = len(target)\n",
        "        total_num += batch_size\n",
        "\n",
        "        # Collect target into the all_y_true list and pred into the all_y_pred list for confusion matrix\n",
        "        ### START CODE ###\n",
        "        all_y_true.append(target)\n",
        "        all_y_pred.append(pred)\n",
        "        ### END CODE ###\n",
        "\n",
        "test_acc = total_correct / total_num\n",
        "print(f\"Test accuracy: {test_acc}\")\n",
        "\n",
        "# Obtain confusion matrix\n",
        "### START CODE ###\n",
        "all_y_true = torch.cat(all_y_true)\n",
        "all_y_pred = torch.cat(all_y_pred)\n",
        "cm = confusion_matrix(all_y_true, all_y_pred)\n",
        "### END CODE ###\n",
        "\n",
        "df_cm = pd.DataFrame(cm, index = [i for i in \"0123456789\"],\n",
        "                         columns = [i for i in \"0123456789\"])\n",
        "plt.figure(figsize = (10,7))\n",
        "sn.heatmap(df_cm, annot=True)"
      ]
    },
    {
      "cell_type": "markdown",
      "metadata": {
        "id": "WH3zHqJGw2A-"
      },
      "source": [
        "## Q4. (10 points) Bayesian Belief Networks\n",
        "\n",
        "#### PART A\n",
        "\n",
        "a) (3 points) Consider two BNNs given below. Suppose you installed two different anti-virus systems which use different algorithms for detection to efficiently detect all infections that can affect your system. Which of the following two BBNs below capture the independence assumptions of this setting correctly?"
      ]
    },
    {
      "cell_type": "code",
      "execution_count": 12,
      "metadata": {
        "colab": {
          "base_uri": "https://localhost:8080/",
          "height": 259
        },
        "id": "jAEVYiqfwAn1",
        "outputId": "710fb48e-3af8-497b-c72d-a0cbe3e6f0e6"
      },
      "outputs": [],
      "source": [
        "#import matplotlib.pyplot as plt\n",
        "#import matplotlib.image as mpimg\n",
        "#from matplotlib import rcParams\n",
        "\n",
        "#%matplotlib inline\n",
        "#img_A = mpimg.imread('hwq.drawio (3).png')\n",
        "#img_B = mpimg.imread('hwq.drawio (4).png')\n",
        "\n",
        "#fig, ax = plt.subplots(1,2)\n",
        "#fig.patch.set_visible(False)\n",
        "#ax[0].axis('off')\n",
        "#ax[1].axis('off')\n",
        "#ax[0].imshow(img_A)\n",
        "#ax[1].imshow(img_B)"
      ]
    },
    {
      "cell_type": "code",
      "execution_count": 14,
      "metadata": {},
      "outputs": [],
      "source": [
        "#import matplotlib.pyplot as plt\n",
        "#import matplotlib.image as mpimg\n",
        "#from matplotlib import rcParams\n",
        "\n",
        "#%matplotlib inline\n",
        "#img_A = mpimg.imread('data/hw4_q4_bbn_image.png')\n",
        "#plt.imshow(img_A)\n"
      ]
    },
    {
      "cell_type": "markdown",
      "metadata": {},
      "source": [
        "#### Part A Answer\n",
        "The image on the left captures the independence assumptions correcly"
      ]
    },
    {
      "cell_type": "markdown",
      "metadata": {},
      "source": [
        "#### PART B"
      ]
    },
    {
      "cell_type": "markdown",
      "metadata": {
        "id": "lQUzw4C6vU8x"
      },
      "source": [
        "b) (7 points) From the first Bayesian network, compute $\\mathbb{P}$(AV2 detection = T| AV1 detection = T , Virus infection = T). Use the following probability tables for the computation.\n",
        "\n",
        "P(AV1 detection = T) = 0.1 \n",
        "\n",
        "P(AV2 detection = T) = 0.2 \n",
        "\n",
        "P(Virus infection = T | AV1 detection = T, AV2 detection = T) = 0.8 \n",
        "\n",
        "P(Virus infection = T | AV1 detection = T, AV2 detection = F) = 0.7 \n",
        "\n",
        "P(Virus infection = T | AV1 detection = F, AV2 detection = T) = 0.6 \n",
        "\n",
        "P(Virus infection = T | AV1 detection = F, AV2 detection = F) = 0.5 "
      ]
    },
    {
      "cell_type": "markdown",
      "metadata": {},
      "source": [
        "#### Part B answer\n",
        "\n",
        "P(AV2=T | AV1=T, V=T) == P(V=T| AV1=T, AV2=T) * P(AV2=T | AV1=T) / P(V=T | AV1=T)\n",
        "\n",
        "Assuming AV1 and AV2 are independent means P(AV2=T | AV1=T) = P(AV2=T)\n",
        "\n",
        "Using law of total probability, P(V=T|AV1=T) = 0.8*0.2 + 0.7*(1-0.2) = 072\n",
        "\n",
        "So\n",
        "\n",
        "P(AV2=T | AV1=T, V=T)== 0.8 * 0.2 / 0.72\n",
        "\n",
        "P(AV2=T | AV1=T, V=T) = 0.222"
      ]
    },
    {
      "cell_type": "markdown",
      "metadata": {
        "id": "70J_XclV-Npj"
      },
      "source": [
        "## Q5. (25 points) Classification using Sklearn and Model Evaluation"
      ]
    },
    {
      "cell_type": "code",
      "execution_count": null,
      "metadata": {
        "colab": {
          "base_uri": "https://localhost:8080/",
          "height": 74
        },
        "id": "d1_WjO7b-T1V",
        "outputId": "c909cd74-d2bd-4571-b402-490bd93ef4b8"
      },
      "outputs": [],
      "source": [
        "# Only use this code block if you are using Google Colab.\n",
        "# If you are using Jupyter Notebook, please ignore this code block. You can directly upload the file to your Jupyter Notebook file systems.\n",
        "#from google.colab import files\n",
        "\n",
        "## It will prompt you to select a local file. Click on “Choose Files” then select and upload the file.\n",
        "## Wait for the file to be 100% uploaded. You should see the name of the file once Colab has uploaded it.\n",
        "#uploaded = files.upload()"
      ]
    },
    {
      "cell_type": "code",
      "execution_count": 15,
      "metadata": {
        "id": "TENsxCBS-Wtk"
      },
      "outputs": [],
      "source": [
        "import pandas as pd\n",
        "import numpy as np\n",
        "import matplotlib.pyplot as plt\n",
        "\n",
        "from sklearn.model_selection import train_test_split\n",
        "from sklearn.metrics import roc_auc_score\n",
        "from sklearn import metrics\n",
        "from sklearn.metrics import confusion_matrix\n",
        "\n",
        "df = pd.read_csv('customer_churn_telcom.csv', index_col = [0])"
      ]
    },
    {
      "cell_type": "code",
      "execution_count": 16,
      "metadata": {
        "id": "r9Op6SMz-Y_k"
      },
      "outputs": [
        {
          "data": {
            "text/html": [
              "<div>\n",
              "<style scoped>\n",
              "    .dataframe tbody tr th:only-of-type {\n",
              "        vertical-align: middle;\n",
              "    }\n",
              "\n",
              "    .dataframe tbody tr th {\n",
              "        vertical-align: top;\n",
              "    }\n",
              "\n",
              "    .dataframe thead th {\n",
              "        text-align: right;\n",
              "    }\n",
              "</style>\n",
              "<table border=\"1\" class=\"dataframe\">\n",
              "  <thead>\n",
              "    <tr style=\"text-align: right;\">\n",
              "      <th></th>\n",
              "      <th>gender</th>\n",
              "      <th>SeniorCitizen</th>\n",
              "      <th>Partner</th>\n",
              "      <th>Dependents</th>\n",
              "      <th>tenure</th>\n",
              "      <th>PhoneService</th>\n",
              "      <th>MultipleLines</th>\n",
              "      <th>InternetService</th>\n",
              "      <th>OnlineSecurity</th>\n",
              "      <th>OnlineBackup</th>\n",
              "      <th>DeviceProtection</th>\n",
              "      <th>TechSupport</th>\n",
              "      <th>StreamingTV</th>\n",
              "      <th>StreamingMovies</th>\n",
              "      <th>Contract</th>\n",
              "      <th>PaperlessBilling</th>\n",
              "      <th>PaymentMethod</th>\n",
              "      <th>MonthlyCharges</th>\n",
              "      <th>TotalCharges</th>\n",
              "      <th>Churn</th>\n",
              "    </tr>\n",
              "  </thead>\n",
              "  <tbody>\n",
              "    <tr>\n",
              "      <th>0</th>\n",
              "      <td>Female</td>\n",
              "      <td>0</td>\n",
              "      <td>Yes</td>\n",
              "      <td>No</td>\n",
              "      <td>1</td>\n",
              "      <td>No</td>\n",
              "      <td>No phone service</td>\n",
              "      <td>DSL</td>\n",
              "      <td>No</td>\n",
              "      <td>Yes</td>\n",
              "      <td>No</td>\n",
              "      <td>No</td>\n",
              "      <td>No</td>\n",
              "      <td>No</td>\n",
              "      <td>Month-to-month</td>\n",
              "      <td>Yes</td>\n",
              "      <td>Electronic check</td>\n",
              "      <td>29.85</td>\n",
              "      <td>29.85</td>\n",
              "      <td>No</td>\n",
              "    </tr>\n",
              "    <tr>\n",
              "      <th>1</th>\n",
              "      <td>Male</td>\n",
              "      <td>0</td>\n",
              "      <td>No</td>\n",
              "      <td>No</td>\n",
              "      <td>34</td>\n",
              "      <td>Yes</td>\n",
              "      <td>No</td>\n",
              "      <td>DSL</td>\n",
              "      <td>Yes</td>\n",
              "      <td>No</td>\n",
              "      <td>Yes</td>\n",
              "      <td>No</td>\n",
              "      <td>No</td>\n",
              "      <td>No</td>\n",
              "      <td>One year</td>\n",
              "      <td>No</td>\n",
              "      <td>Mailed check</td>\n",
              "      <td>56.95</td>\n",
              "      <td>1889.50</td>\n",
              "      <td>No</td>\n",
              "    </tr>\n",
              "    <tr>\n",
              "      <th>2</th>\n",
              "      <td>Male</td>\n",
              "      <td>0</td>\n",
              "      <td>No</td>\n",
              "      <td>No</td>\n",
              "      <td>2</td>\n",
              "      <td>Yes</td>\n",
              "      <td>No</td>\n",
              "      <td>DSL</td>\n",
              "      <td>Yes</td>\n",
              "      <td>Yes</td>\n",
              "      <td>No</td>\n",
              "      <td>No</td>\n",
              "      <td>No</td>\n",
              "      <td>No</td>\n",
              "      <td>Month-to-month</td>\n",
              "      <td>Yes</td>\n",
              "      <td>Mailed check</td>\n",
              "      <td>53.85</td>\n",
              "      <td>108.15</td>\n",
              "      <td>Yes</td>\n",
              "    </tr>\n",
              "    <tr>\n",
              "      <th>3</th>\n",
              "      <td>Male</td>\n",
              "      <td>0</td>\n",
              "      <td>No</td>\n",
              "      <td>No</td>\n",
              "      <td>45</td>\n",
              "      <td>No</td>\n",
              "      <td>No phone service</td>\n",
              "      <td>DSL</td>\n",
              "      <td>Yes</td>\n",
              "      <td>No</td>\n",
              "      <td>Yes</td>\n",
              "      <td>Yes</td>\n",
              "      <td>No</td>\n",
              "      <td>No</td>\n",
              "      <td>One year</td>\n",
              "      <td>No</td>\n",
              "      <td>Bank transfer (automatic)</td>\n",
              "      <td>42.30</td>\n",
              "      <td>1840.75</td>\n",
              "      <td>No</td>\n",
              "    </tr>\n",
              "    <tr>\n",
              "      <th>4</th>\n",
              "      <td>Female</td>\n",
              "      <td>0</td>\n",
              "      <td>No</td>\n",
              "      <td>No</td>\n",
              "      <td>2</td>\n",
              "      <td>Yes</td>\n",
              "      <td>No</td>\n",
              "      <td>Fiber optic</td>\n",
              "      <td>No</td>\n",
              "      <td>No</td>\n",
              "      <td>No</td>\n",
              "      <td>No</td>\n",
              "      <td>No</td>\n",
              "      <td>No</td>\n",
              "      <td>Month-to-month</td>\n",
              "      <td>Yes</td>\n",
              "      <td>Electronic check</td>\n",
              "      <td>70.70</td>\n",
              "      <td>151.65</td>\n",
              "      <td>Yes</td>\n",
              "    </tr>\n",
              "  </tbody>\n",
              "</table>\n",
              "</div>"
            ],
            "text/plain": [
              "   gender  SeniorCitizen Partner Dependents  tenure PhoneService  \\\n",
              "0  Female              0     Yes         No       1           No   \n",
              "1    Male              0      No         No      34          Yes   \n",
              "2    Male              0      No         No       2          Yes   \n",
              "3    Male              0      No         No      45           No   \n",
              "4  Female              0      No         No       2          Yes   \n",
              "\n",
              "      MultipleLines InternetService OnlineSecurity OnlineBackup  \\\n",
              "0  No phone service             DSL             No          Yes   \n",
              "1                No             DSL            Yes           No   \n",
              "2                No             DSL            Yes          Yes   \n",
              "3  No phone service             DSL            Yes           No   \n",
              "4                No     Fiber optic             No           No   \n",
              "\n",
              "  DeviceProtection TechSupport StreamingTV StreamingMovies        Contract  \\\n",
              "0               No          No          No              No  Month-to-month   \n",
              "1              Yes          No          No              No        One year   \n",
              "2               No          No          No              No  Month-to-month   \n",
              "3              Yes         Yes          No              No        One year   \n",
              "4               No          No          No              No  Month-to-month   \n",
              "\n",
              "  PaperlessBilling              PaymentMethod  MonthlyCharges  TotalCharges  \\\n",
              "0              Yes           Electronic check           29.85         29.85   \n",
              "1               No               Mailed check           56.95       1889.50   \n",
              "2              Yes               Mailed check           53.85        108.15   \n",
              "3               No  Bank transfer (automatic)           42.30       1840.75   \n",
              "4              Yes           Electronic check           70.70        151.65   \n",
              "\n",
              "  Churn  \n",
              "0    No  \n",
              "1    No  \n",
              "2   Yes  \n",
              "3    No  \n",
              "4   Yes  "
            ]
          },
          "execution_count": 16,
          "metadata": {},
          "output_type": "execute_result"
        }
      ],
      "source": [
        "#lets print the first five rows\n",
        "df.head()"
      ]
    },
    {
      "cell_type": "code",
      "execution_count": 17,
      "metadata": {
        "id": "nHq87DSg-aUT"
      },
      "outputs": [
        {
          "name": "stdout",
          "output_type": "stream",
          "text": [
            "gender: ['Female' 'Male']\n",
            "Partner: ['Yes' 'No']\n",
            "Dependents: ['No' 'Yes']\n",
            "PhoneService: ['No' 'Yes']\n",
            "MultipleLines: ['No phone service' 'No' 'Yes']\n",
            "InternetService: ['DSL' 'Fiber optic' 'No']\n",
            "OnlineSecurity: ['No' 'Yes' 'No internet service']\n",
            "OnlineBackup: ['Yes' 'No' 'No internet service']\n",
            "DeviceProtection: ['No' 'Yes' 'No internet service']\n",
            "TechSupport: ['No' 'Yes' 'No internet service']\n",
            "StreamingTV: ['No' 'Yes' 'No internet service']\n",
            "StreamingMovies: ['No' 'Yes' 'No internet service']\n",
            "Contract: ['Month-to-month' 'One year' 'Two year']\n",
            "PaperlessBilling: ['Yes' 'No']\n",
            "PaymentMethod: ['Electronic check' 'Mailed check' 'Bank transfer (automatic)'\n",
            " 'Credit card (automatic)']\n",
            "Churn: ['No' 'Yes']\n"
          ]
        }
      ],
      "source": [
        "def print_unique_col_values(df):\n",
        "       for column in df:\n",
        "            if df[column].dtypes=='object':\n",
        "                print(f'{column}: {df[column].unique()}')\n",
        "\n",
        "print_unique_col_values(df)"
      ]
    },
    {
      "cell_type": "markdown",
      "metadata": {
        "id": "f_qT06HS-68u"
      },
      "source": [
        "## [5 points] Data Preprocessing and Splitting"
      ]
    },
    {
      "cell_type": "code",
      "execution_count": 18,
      "metadata": {
        "id": "9bPkT_pY-cNI"
      },
      "outputs": [],
      "source": [
        "# Replacing values of 'no internet service' and 'no phone service' with the value  'No'\n",
        "## CODE HERE ##\n",
        "df.replace('No internet service','No', inplace=True)\n",
        "df.replace('No phone service','No', inplace=True)"
      ]
    },
    {
      "cell_type": "markdown",
      "metadata": {
        "id": "8TLfsqg__Cvb"
      },
      "source": [
        "(a) **[1 pt]** Convert all 'Yes' values to 1 and 'No' values to 0 <br>\n",
        "(b) **[1 pt]** Convert all  'Female' values to 1 and 'Male' values to 0"
      ]
    },
    {
      "cell_type": "code",
      "execution_count": 19,
      "metadata": {
        "id": "m7vxmlGz_DXO"
      },
      "outputs": [],
      "source": [
        "# Changing values to 0/1\n",
        "\n",
        "yes_no_columns = ['Partner','Dependents','PhoneService','MultipleLines','OnlineSecurity','OnlineBackup',\n",
        "                  'DeviceProtection','TechSupport','StreamingTV','StreamingMovies','PaperlessBilling','Churn']\n",
        "\n",
        "## CODE HERE ##\n",
        "for col in yes_no_columns:\n",
        "    df[col].replace({'Yes': 1,'No': 0}, inplace=True)\n",
        "\n",
        "df['gender'].replace({'Female': 1,'Male': 0}, inplace=True)"
      ]
    },
    {
      "cell_type": "markdown",
      "metadata": {
        "id": "6m-kz64w_PNE"
      },
      "source": [
        "(c) **[1 pt]** Perform one-hot encoding on the folowing columns: 'InternetService', 'Contract', 'PaymentMethod'"
      ]
    },
    {
      "cell_type": "code",
      "execution_count": 20,
      "metadata": {
        "id": "GXvBsxtE_HER"
      },
      "outputs": [
        {
          "data": {
            "text/html": [
              "<div>\n",
              "<style scoped>\n",
              "    .dataframe tbody tr th:only-of-type {\n",
              "        vertical-align: middle;\n",
              "    }\n",
              "\n",
              "    .dataframe tbody tr th {\n",
              "        vertical-align: top;\n",
              "    }\n",
              "\n",
              "    .dataframe thead th {\n",
              "        text-align: right;\n",
              "    }\n",
              "</style>\n",
              "<table border=\"1\" class=\"dataframe\">\n",
              "  <thead>\n",
              "    <tr style=\"text-align: right;\">\n",
              "      <th></th>\n",
              "      <th>gender</th>\n",
              "      <th>SeniorCitizen</th>\n",
              "      <th>Partner</th>\n",
              "      <th>Dependents</th>\n",
              "      <th>tenure</th>\n",
              "      <th>PhoneService</th>\n",
              "      <th>MultipleLines</th>\n",
              "      <th>OnlineSecurity</th>\n",
              "      <th>OnlineBackup</th>\n",
              "      <th>DeviceProtection</th>\n",
              "      <th>...</th>\n",
              "      <th>InternetService_DSL</th>\n",
              "      <th>InternetService_Fiber optic</th>\n",
              "      <th>InternetService_No</th>\n",
              "      <th>Contract_Month-to-month</th>\n",
              "      <th>Contract_One year</th>\n",
              "      <th>Contract_Two year</th>\n",
              "      <th>PaymentMethod_Bank transfer (automatic)</th>\n",
              "      <th>PaymentMethod_Credit card (automatic)</th>\n",
              "      <th>PaymentMethod_Electronic check</th>\n",
              "      <th>PaymentMethod_Mailed check</th>\n",
              "    </tr>\n",
              "  </thead>\n",
              "  <tbody>\n",
              "    <tr>\n",
              "      <th>0</th>\n",
              "      <td>1</td>\n",
              "      <td>0</td>\n",
              "      <td>1</td>\n",
              "      <td>0</td>\n",
              "      <td>1</td>\n",
              "      <td>0</td>\n",
              "      <td>0</td>\n",
              "      <td>0</td>\n",
              "      <td>1</td>\n",
              "      <td>0</td>\n",
              "      <td>...</td>\n",
              "      <td>1</td>\n",
              "      <td>0</td>\n",
              "      <td>0</td>\n",
              "      <td>1</td>\n",
              "      <td>0</td>\n",
              "      <td>0</td>\n",
              "      <td>0</td>\n",
              "      <td>0</td>\n",
              "      <td>1</td>\n",
              "      <td>0</td>\n",
              "    </tr>\n",
              "    <tr>\n",
              "      <th>1</th>\n",
              "      <td>0</td>\n",
              "      <td>0</td>\n",
              "      <td>0</td>\n",
              "      <td>0</td>\n",
              "      <td>34</td>\n",
              "      <td>1</td>\n",
              "      <td>0</td>\n",
              "      <td>1</td>\n",
              "      <td>0</td>\n",
              "      <td>1</td>\n",
              "      <td>...</td>\n",
              "      <td>1</td>\n",
              "      <td>0</td>\n",
              "      <td>0</td>\n",
              "      <td>0</td>\n",
              "      <td>1</td>\n",
              "      <td>0</td>\n",
              "      <td>0</td>\n",
              "      <td>0</td>\n",
              "      <td>0</td>\n",
              "      <td>1</td>\n",
              "    </tr>\n",
              "    <tr>\n",
              "      <th>2</th>\n",
              "      <td>0</td>\n",
              "      <td>0</td>\n",
              "      <td>0</td>\n",
              "      <td>0</td>\n",
              "      <td>2</td>\n",
              "      <td>1</td>\n",
              "      <td>0</td>\n",
              "      <td>1</td>\n",
              "      <td>1</td>\n",
              "      <td>0</td>\n",
              "      <td>...</td>\n",
              "      <td>1</td>\n",
              "      <td>0</td>\n",
              "      <td>0</td>\n",
              "      <td>1</td>\n",
              "      <td>0</td>\n",
              "      <td>0</td>\n",
              "      <td>0</td>\n",
              "      <td>0</td>\n",
              "      <td>0</td>\n",
              "      <td>1</td>\n",
              "    </tr>\n",
              "    <tr>\n",
              "      <th>3</th>\n",
              "      <td>0</td>\n",
              "      <td>0</td>\n",
              "      <td>0</td>\n",
              "      <td>0</td>\n",
              "      <td>45</td>\n",
              "      <td>0</td>\n",
              "      <td>0</td>\n",
              "      <td>1</td>\n",
              "      <td>0</td>\n",
              "      <td>1</td>\n",
              "      <td>...</td>\n",
              "      <td>1</td>\n",
              "      <td>0</td>\n",
              "      <td>0</td>\n",
              "      <td>0</td>\n",
              "      <td>1</td>\n",
              "      <td>0</td>\n",
              "      <td>1</td>\n",
              "      <td>0</td>\n",
              "      <td>0</td>\n",
              "      <td>0</td>\n",
              "    </tr>\n",
              "    <tr>\n",
              "      <th>4</th>\n",
              "      <td>1</td>\n",
              "      <td>0</td>\n",
              "      <td>0</td>\n",
              "      <td>0</td>\n",
              "      <td>2</td>\n",
              "      <td>1</td>\n",
              "      <td>0</td>\n",
              "      <td>0</td>\n",
              "      <td>0</td>\n",
              "      <td>0</td>\n",
              "      <td>...</td>\n",
              "      <td>0</td>\n",
              "      <td>1</td>\n",
              "      <td>0</td>\n",
              "      <td>1</td>\n",
              "      <td>0</td>\n",
              "      <td>0</td>\n",
              "      <td>0</td>\n",
              "      <td>0</td>\n",
              "      <td>1</td>\n",
              "      <td>0</td>\n",
              "    </tr>\n",
              "  </tbody>\n",
              "</table>\n",
              "<p>5 rows × 27 columns</p>\n",
              "</div>"
            ],
            "text/plain": [
              "   gender  SeniorCitizen  Partner  Dependents  tenure  PhoneService  \\\n",
              "0       1              0        1           0       1             0   \n",
              "1       0              0        0           0      34             1   \n",
              "2       0              0        0           0       2             1   \n",
              "3       0              0        0           0      45             0   \n",
              "4       1              0        0           0       2             1   \n",
              "\n",
              "   MultipleLines  OnlineSecurity  OnlineBackup  DeviceProtection  ...  \\\n",
              "0              0               0             1                 0  ...   \n",
              "1              0               1             0                 1  ...   \n",
              "2              0               1             1                 0  ...   \n",
              "3              0               1             0                 1  ...   \n",
              "4              0               0             0                 0  ...   \n",
              "\n",
              "   InternetService_DSL  InternetService_Fiber optic  InternetService_No  \\\n",
              "0                    1                            0                   0   \n",
              "1                    1                            0                   0   \n",
              "2                    1                            0                   0   \n",
              "3                    1                            0                   0   \n",
              "4                    0                            1                   0   \n",
              "\n",
              "   Contract_Month-to-month  Contract_One year  Contract_Two year  \\\n",
              "0                        1                  0                  0   \n",
              "1                        0                  1                  0   \n",
              "2                        1                  0                  0   \n",
              "3                        0                  1                  0   \n",
              "4                        1                  0                  0   \n",
              "\n",
              "   PaymentMethod_Bank transfer (automatic)  \\\n",
              "0                                        0   \n",
              "1                                        0   \n",
              "2                                        0   \n",
              "3                                        1   \n",
              "4                                        0   \n",
              "\n",
              "   PaymentMethod_Credit card (automatic)  PaymentMethod_Electronic check  \\\n",
              "0                                      0                               1   \n",
              "1                                      0                               0   \n",
              "2                                      0                               0   \n",
              "3                                      0                               0   \n",
              "4                                      0                               1   \n",
              "\n",
              "   PaymentMethod_Mailed check  \n",
              "0                           0  \n",
              "1                           1  \n",
              "2                           1  \n",
              "3                           0  \n",
              "4                           0  \n",
              "\n",
              "[5 rows x 27 columns]"
            ]
          },
          "execution_count": 20,
          "metadata": {},
          "output_type": "execute_result"
        }
      ],
      "source": [
        "# One hot encoding for categorical columns\n",
        "# Name your final dataframe df 2\n",
        "\n",
        "## CODE HERE ##\n",
        "df2 = pd.get_dummies(data=df, columns=['InternetService','Contract','PaymentMethod'])\n",
        "df2.head()"
      ]
    },
    {
      "cell_type": "code",
      "execution_count": 21,
      "metadata": {
        "id": "FbHRPJLH_QFk"
      },
      "outputs": [],
      "source": [
        "# Scaling\n",
        "cols_to_scale = ['tenure','MonthlyCharges','TotalCharges']\n",
        "\n",
        "from sklearn.preprocessing import MinMaxScaler\n",
        "scaler = MinMaxScaler()\n",
        "df2[cols_to_scale] = scaler.fit_transform(df2[cols_to_scale])"
      ]
    },
    {
      "cell_type": "markdown",
      "metadata": {
        "id": "T1iEUSM__lcQ"
      },
      "source": [
        "d) **[2 pt]** Split the dataset into training and test using a 80-20 split with a random state of 15. Perform stratified sampling on the target variable while doing so. Split the training dataset further into training (80%) and validation sets (20%) with a random state of 15. Again perform stratified sampling on the target variable while doing so.\n",
        "\n",
        "Note: The 'stratify' parameter can be used for this in the train_test_split function."
      ]
    },
    {
      "cell_type": "code",
      "execution_count": 22,
      "metadata": {},
      "outputs": [
        {
          "data": {
            "text/plain": [
              "Index(['gender', 'SeniorCitizen', 'Partner', 'Dependents', 'tenure',\n",
              "       'PhoneService', 'MultipleLines', 'OnlineSecurity', 'OnlineBackup',\n",
              "       'DeviceProtection', 'TechSupport', 'StreamingTV', 'StreamingMovies',\n",
              "       'PaperlessBilling', 'MonthlyCharges', 'TotalCharges', 'Churn',\n",
              "       'InternetService_DSL', 'InternetService_Fiber optic',\n",
              "       'InternetService_No', 'Contract_Month-to-month', 'Contract_One year',\n",
              "       'Contract_Two year', 'PaymentMethod_Bank transfer (automatic)',\n",
              "       'PaymentMethod_Credit card (automatic)',\n",
              "       'PaymentMethod_Electronic check', 'PaymentMethod_Mailed check'],\n",
              "      dtype='object')"
            ]
          },
          "execution_count": 22,
          "metadata": {},
          "output_type": "execute_result"
        }
      ],
      "source": [
        "df2.columns"
      ]
    },
    {
      "cell_type": "code",
      "execution_count": 23,
      "metadata": {
        "id": "7OFno1gl_ni0"
      },
      "outputs": [],
      "source": [
        "# Train test split\n",
        "from sklearn.model_selection import train_test_split\n",
        "\n",
        "\n",
        "X = df2.drop('Churn', axis='columns')\n",
        "y = df2['Churn']\n",
        "\n",
        "# Write code to make train and test splits\n",
        "## START CODE ##\n",
        "X_train, X_test, y_train, y_test = train_test_split(X, y, test_size=0.2, random_state=15, stratify=y)\n",
        "## END CODE ##"
      ]
    },
    {
      "cell_type": "code",
      "execution_count": 24,
      "metadata": {
        "id": "SSj2EUBzbls4"
      },
      "outputs": [],
      "source": [
        "# Write code to make train and validation splits\n",
        "## START CODE ##\n",
        "X_train, X_val, y_train, y_val = train_test_split(X_train, y_train, test_size=0.2, random_state=15, stratify=y_train)\n",
        "## END CODE ##"
      ]
    },
    {
      "cell_type": "code",
      "execution_count": 25,
      "metadata": {
        "id": "kpA5ALBy_uqR"
      },
      "outputs": [
        {
          "name": "stdout",
          "output_type": "stream",
          "text": [
            "Churn occurences in the training set \n",
            " 0    3304\n",
            "1    1196\n",
            "Name: Churn, dtype: int64\n",
            "\n",
            "\n",
            "Churn occurences throughout the data \n",
            " 0    5163\n",
            "1    1869\n",
            "Name: Churn, dtype: int64\n"
          ]
        }
      ],
      "source": [
        "# With samples corresponding to the positive class being very low, we can clearly see the imbalance in our data\n",
        "print('Churn occurences in the training set \\n', y_train.value_counts())\n",
        "print('\\n')\n",
        "print('Churn occurences throughout the data \\n', y.value_counts())"
      ]
    },
    {
      "cell_type": "markdown",
      "metadata": {
        "id": "TWDjCV45_z60"
      },
      "source": [
        "## [20 points] Decision Trees, Logistic Regression, and MLP\n",
        "\n",
        "Use the example provided [here](https://scikit-learn.org/stable/modules/tree.html) to get an idea of how to use sklearn's decision tree classifier.\n",
        "\n",
        "Go through the documentation [here](https://scikit-learn.org/0.16/modules/generated/sklearn.linear_model.LogisticRegression.html) to understand how to use sklearn's logistic regression model.\n",
        "\n",
        "Go through the documentation [here](https://scikit-learn.org/stable/modules/generated/sklearn.neural_network.MLPClassifier.html) to understand how to use sklearn's MLP Model.\n"
      ]
    },
    {
      "cell_type": "markdown",
      "metadata": {
        "id": "UMdf_I4GDyCs"
      },
      "source": [
        "\n",
        "Helpful resources for this question can be found here -\n",
        "1. [sklearn.tree.DecisionTreeClassifier.score](https://github.com/scikit-learn/scikit-learn/blob/37ac6788c/sklearn/base.py#L625)\n",
        "2.  [sklearn.linear_model.LogisticRegression.score](https://github.com/scikit-learn/scikit-learn/blob/37ac6788c/sklearn/base.py#L625)\n",
        "3. [sklearn.neutral_network.MLPClassifier.score](https://github.com/scikit-learn/scikit-learn/blob/36958fb24/sklearn/base.py#L640)\n",
        "4. [sklearn.metrics.plot_roc_curve](https://scikit-learn.org/stable/modules/generated/sklearn.metrics.plot_roc_curve.html)\n",
        "5. [sklearn.metrics_confusion_matrix](https://scikit-learn.org/stable/modules/generated/sklearn.metrics.confusion_matrix.html)"
      ]
    },
    {
      "cell_type": "markdown",
      "metadata": {
        "id": "PnknRDi1DNUN"
      },
      "source": [
        "(a) **[12 pts]** Train the three classifiers on the dataset and print confusion matrix on both - the validation data as well as the test data for all the three models. <br>"
      ]
    },
    {
      "cell_type": "code",
      "execution_count": 26,
      "metadata": {
        "id": "8f6mxbq0DPCK"
      },
      "outputs": [
        {
          "name": "stdout",
          "output_type": "stream",
          "text": [
            "Validation Set\n",
            "Confusion Matrix: \n",
            " [[668 158]\n",
            " [151 148]]\n",
            "Test Set\n",
            "Confusion Matrix: \n",
            " [[844 189]\n",
            " [195 179]]\n"
          ]
        }
      ],
      "source": [
        "# Decision Tree Classifier\n",
        "from sklearn import tree\n",
        "from sklearn.metrics import confusion_matrix\n",
        "from sklearn.metrics import f1_score\n",
        "from sklearn import tree\n",
        "\n",
        "## CODE HERE ##\n",
        "\n",
        "dt = tree.DecisionTreeClassifier()\n",
        "dt.fit(X_train, y_train)\n",
        "y_pred_val = dt.predict(X_val)\n",
        "y_pred_test = dt.predict(X_test)\n",
        "print('Validation Set')\n",
        "print('Confusion Matrix: \\n', confusion_matrix(y_val, y_pred_val))\n",
        "print('Test Set')\n",
        "print('Confusion Matrix: \\n', confusion_matrix(y_test, y_pred_test))\n",
        "\n",
        "\n"
      ]
    },
    {
      "cell_type": "code",
      "execution_count": 27,
      "metadata": {
        "id": "JW7EBFOWDZcZ"
      },
      "outputs": [
        {
          "name": "stdout",
          "output_type": "stream",
          "text": [
            "Validation Set\n",
            "Confusion Matrix: \n",
            " [[734  92]\n",
            " [143 156]]\n",
            "Test Set\n",
            "Confusion Matrix: \n",
            " [[929 104]\n",
            " [170 204]]\n"
          ]
        }
      ],
      "source": [
        "# Logistic Regression\n",
        "from sklearn.linear_model import LogisticRegression\n",
        "\n",
        "## CODE HERE ##\n",
        "logreg = LogisticRegression()\n",
        "logreg.fit(X_train, y_train)\n",
        "y_pred_val = logreg.predict(X_val)\n",
        "y_pred_test = logreg.predict(X_test)\n",
        "print('Validation Set')\n",
        "print('Confusion Matrix: \\n', confusion_matrix(y_val, y_pred_val))\n",
        "print('Test Set')\n",
        "print('Confusion Matrix: \\n', confusion_matrix(y_test, y_pred_test))"
      ]
    },
    {
      "cell_type": "code",
      "execution_count": 28,
      "metadata": {
        "id": "Ybj7IyhDDcOx"
      },
      "outputs": [],
      "source": [
        "# MLP Classifier\n",
        "from sklearn.neural_network import MLPClassifier\n",
        "\n",
        "## CODE HERE ##\n",
        "mlp = MLPClassifier(activation='relu', max_iter=1000)\n",
        "mlp.fit(X_train, y_train)\n",
        "y_pred_val = mlp.predict(X_val)\n",
        "y_pred_test = mlp.predict(X_test)\n",
        "print('Validation Set')\n",
        "print('Confusion Matrix: \\n', confusion_matrix(y_val, y_pred_val))\n",
        "print('Test Set')\n",
        "print('Confusion Matrix: \\n', confusion_matrix(y_test, y_pred_test))\n"
      ]
    },
    {
      "cell_type": "markdown",
      "metadata": {
        "id": "weuN8JjiDTZ3"
      },
      "source": [
        "(b) **[4 pts]** Plot the ROC Curves for all the three classifiers in a single graph and display the AUC-ROC scores for all the classifiers in this plot as well. Use both the validation and the test data to plot these curves as well as to calculate the AUC-ROC scores. Use one graph for validation data and one graph for test data (all models for validation data in one graph and all models for test data in one graph - and use this scheme for plotting in all subsequent plotting questions)."
      ]
    },
    {
      "cell_type": "code",
      "execution_count": null,
      "metadata": {},
      "outputs": [],
      "source": [
        "# Plot ROC curves\n",
        "\n",
        "from sklearn.metrics import roc_curve, roc_auc_score, auc\n",
        "from sklearn import datasets, metrics, model_selection\n",
        "import matplotlib.pyplot as plt\n",
        "\n",
        "# Getting probability scores for each model using the validation set\n",
        "y_scores_dt = dt.predict_proba(X_val)[:, 1]\n",
        "y_scores_lr = logreg.predict_proba(X_val)[:, 1]\n",
        "y_scores_mlp = mlp.predict_proba(X_val)[:, 1]\n",
        "\n",
        "# Calculating ROC curve and ROC AUC for Decision Tree\n",
        "fpr_dt, tpr_dt, _ = roc_curve(y_val, y_scores_dt)\n",
        "roc_auc_dt = auc(fpr_dt, tpr_dt)\n",
        "\n",
        "# Calculating ROC curve and ROC AUC for Logistic Regression\n",
        "fpr_lr, tpr_lr, _ = roc_curve(y_val, y_scores_lr)\n",
        "roc_auc_lr = auc(fpr_lr, tpr_lr)\n",
        "\n",
        "# Calculating ROC curve and ROC AUC for MLP Classifier\n",
        "fpr_mlp, tpr_mlp, _ = roc_curve(y_val, y_scores_mlp)\n",
        "roc_auc_mlp = auc(fpr_mlp, tpr_mlp)\n",
        "\n",
        "# Plotting ROC curves\n",
        "plt.figure()\n",
        "\n",
        "# Decision Tree ROC\n",
        "plt.plot(fpr_dt, tpr_dt, color='darkorange',\n",
        "         label=f'ROC curve of Decision Tree (area = {roc_auc_dt:0.2f})')\n",
        "\n",
        "# Logistic Regression ROC\n",
        "plt.plot(fpr_lr, tpr_lr, color='green',\n",
        "         label=f'ROC curve of Logistic Regression (area = {roc_auc_lr:0.2f})')\n",
        "\n",
        "# MLP Classifier ROC\n",
        "plt.plot(fpr_mlp, tpr_mlp, color='blue',\n",
        "         label=f'ROC curve of MLP Classifier (area = {roc_auc_mlp:0.2f})')\n",
        "\n",
        "# Random Guess line:\n",
        "plt.plot([0, 1], [0, 1], color='navy', lw=lw, linestyle='--')\n",
        "\n",
        "plt.xlim([0.0, 1.0])\n",
        "plt.ylim([0.0, 1.05])\n",
        "plt.xlabel('False Positive Rate')\n",
        "plt.ylabel('True Positive Rate')\n",
        "plt.title('ROC Validation Set')\n",
        "plt.legend(loc=\"lower right\")\n",
        "plt.show()\n"
      ]
    },
    {
      "cell_type": "code",
      "execution_count": null,
      "metadata": {
        "id": "dMSK7BJDDWhT"
      },
      "outputs": [],
      "source": [
        "\n",
        "# Getting probability scores for each model\n",
        "y_scores_dt = dt.predict_proba(X_test)[:, 1]\n",
        "y_scores_lr = logreg.predict_proba(X_test)[:, 1]\n",
        "y_scores_mlp = mlp.predict_proba(X_test)[:, 1]\n",
        "\n",
        "# Calculating ROC curve and ROC AUC for Decision Tree\n",
        "fpr_dt, tpr_dt, _ = roc_curve(y_test, y_scores_dt)\n",
        "roc_auc_dt = auc(fpr_dt, tpr_dt)\n",
        "\n",
        "# Calculating ROC curve and ROC AUC for Logistic Regression\n",
        "fpr_lr, tpr_lr, _ = roc_curve(y_test, y_scores_lr)\n",
        "roc_auc_lr = auc(fpr_lr, tpr_lr)\n",
        "\n",
        "# Calculating ROC curve and ROC AUC for MLP Classifier\n",
        "fpr_mlp, tpr_mlp, _ = roc_curve(y_test, y_scores_mlp)\n",
        "roc_auc_mlp = auc(fpr_mlp, tpr_mlp)\n",
        "\n",
        "# Plotting ROC curves\n",
        "plt.figure()\n",
        "\n",
        "# Decision Tree ROC\n",
        "plt.plot(fpr_dt, tpr_dt, color='darkorange',\n",
        "         label=f'ROC curve of Decision Tree (area = {roc_auc_dt:0.2f})')\n",
        "\n",
        "# Logistic Regression ROC\n",
        "plt.plot(fpr_lr, tpr_lr, color='green',\n",
        "         label=f'ROC curve of Logistic Regression (area = {roc_auc_lr:0.2f})')\n",
        "\n",
        "# MLP Classifier ROC\n",
        "plt.plot(fpr_mlp, tpr_mlp, color='blue',\n",
        "         label=f'ROC curve of MLP Classifier (area = {roc_auc_mlp:0.2f})')\n",
        "\n",
        "# Random Guess line:\n",
        "plt.plot([0, 1], [0, 1], color='navy', lw=lw, linestyle='--')\n",
        "\n",
        "plt.xlim([0.0, 1.0])\n",
        "plt.ylim([0.0, 1.05])\n",
        "plt.xlabel('False Positive Rate')\n",
        "plt.ylabel('True Positive Rate')\n",
        "plt.title('ROC Test Set')\n",
        "plt.legend(loc=\"lower right\")\n",
        "plt.show()\n"
      ]
    },
    {
      "cell_type": "markdown",
      "metadata": {
        "id": "0woq3xlNDhXx"
      },
      "source": [
        "(c) **[4 pts]** Plot the Precision-Recall curves for all the three classifiers in a single graph. Use both the validation and the test data to plot these curves. Use one graph for validation data and one graph for test data."
      ]
    },
    {
      "cell_type": "code",
      "execution_count": null,
      "metadata": {},
      "outputs": [],
      "source": [
        "import matplotlib.pyplot as plt\n",
        "from sklearn.metrics import precision_recall_curve, PrecisionRecallDisplay\n",
        "\n",
        "# Function to plot PR curve using PrecisionRecallDisplay\n",
        "def plot_pr_curve_with_display(model, X, y, label, color, ax):\n",
        "    y_scores = model.predict_proba(X)[:, 1]\n",
        "    precision, recall, _ = precision_recall_curve(y, y_scores)\n",
        "    disp = PrecisionRecallDisplay(precision=precision, recall=recall, estimator_name=label)\n",
        "    disp.plot(ax=ax, color=color)\n",
        "    return ax\n",
        "\n",
        "# Creating a subplot to use the same axes for all plots\n",
        "ax = plt.subplot()\n",
        "\n",
        "# Decision Tree PR Curve\n",
        "plot_pr_curve_with_display(dt, X_val, y_val, 'Decision Tree', 'darkorange', ax)\n",
        "\n",
        "# Logistic Regression PR Curve\n",
        "plot_pr_curve_with_display(logreg, X_val, y_val, 'Logistic Regression', 'green', ax)\n",
        "\n",
        "# MLP Classifier PR Curve\n",
        "plot_pr_curve_with_display(mlp, X_val, y_val, 'MLP Classifier', 'blue', ax)\n",
        "\n",
        "ax.set_xlabel('Recall')\n",
        "ax.set_ylabel('Precision')\n",
        "ax.set_title('Precision-Recall Curves on Validation Set')\n",
        "ax.legend()\n",
        "plt.show()\n"
      ]
    },
    {
      "cell_type": "code",
      "execution_count": null,
      "metadata": {
        "id": "PXJ5Ld8jbWwT"
      },
      "outputs": [],
      "source": [
        "from sklearn.metrics import precision_recall_curve, average_precision_score\n",
        "\n",
        "# Function to plot PR curve for each model\n",
        "def plot_pr_curve(model, X, y, color, label):\n",
        "    y_scores = model.predict_proba(X)[:, 1]\n",
        "    precision, recall, _ = precision_recall_curve(y, y_scores)\n",
        "    avg_precision = average_precision_score(y, y_scores)\n",
        "    plt.plot(recall, precision, color=color, lw=2,\n",
        "             label=f'{label} (AP = {avg_precision:.2f})')\n",
        "    return plt\n",
        "\n",
        "# Plotting PR curves\n",
        "plt.figure()\n",
        "# Decision Tree PR Curve\n",
        "plot_pr_curve(dt, X_val, y_val, 'darkorange', 'Decision Tree')\n",
        "# Logistic Regression PR Curve\n",
        "plot_pr_curve(logreg, X_val, y_val, 'green', 'Logistic Regression')\n",
        "# MLP Classifier PR Curve\n",
        "plot_pr_curve(mlp, X_val, y_val, 'blue', 'MLP Classifier')\n",
        "plt.xlabel('Recall')\n",
        "plt.ylabel('Precision')\n",
        "plt.ylim([0.0, 1.05])\n",
        "plt.xlim([0.0, 1.0])\n",
        "plt.title('Precision-Recall Curves Validation Set')\n",
        "plt.legend(loc=\"lower left\")\n",
        "plt.show()\n",
        "\n",
        "\n",
        "# Plotting PR curves\n",
        "plt.figure()\n",
        "# Decision Tree PR Curve\n",
        "plot_pr_curve(dt, X_test, y_test, 'darkorange', 'Decision Tree')\n",
        "# Logistic Regression PR Curve\n",
        "plot_pr_curve(logreg, X_test, y_test, 'green', 'Logistic Regression')\n",
        "# MLP Classifier PR Curve\n",
        "plot_pr_curve(mlp, X_test, y_test, 'blue', 'MLP Classifier')\n",
        "plt.xlabel('Recall')\n",
        "plt.ylabel('Precision')\n",
        "plt.ylim([0.0, 1.05])\n",
        "plt.xlim([0.0, 1.0])\n",
        "plt.title('Precision-Recall Curves Test Set')\n",
        "plt.legend(loc=\"lower left\")\n",
        "plt.show()\n"
      ]
    },
    {
      "cell_type": "code",
      "execution_count": null,
      "metadata": {},
      "outputs": [],
      "source": []
    }
  ],
  "metadata": {
    "colab": {
      "provenance": []
    },
    "kernelspec": {
      "display_name": "ece381",
      "language": "python",
      "name": "python3"
    },
    "language_info": {
      "codemirror_mode": {
        "name": "ipython",
        "version": 3
      },
      "file_extension": ".py",
      "mimetype": "text/x-python",
      "name": "python",
      "nbconvert_exporter": "python",
      "pygments_lexer": "ipython3",
      "version": "3.10.9"
    }
  },
  "nbformat": 4,
  "nbformat_minor": 0
}
